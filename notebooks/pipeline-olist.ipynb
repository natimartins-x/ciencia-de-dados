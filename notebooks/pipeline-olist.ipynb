{
 "cells": [
  {
   "cell_type": "markdown",
   "metadata": {
    "application/vnd.databricks.v1+cell": {
     "cellMetadata": {
      "byteLimit": 2048000,
      "rowLimit": 10000
     },
     "inputWidgets": {},
     "nuid": "577ff881-b99b-45db-b84a-14f1c1e0ce11",
     "showTitle": false,
     "tableResultSettingsMap": {},
     "title": ""
    }
   },
   "source": [
    "#Objetivo do MVP\n",
    "Investigar os principais fatores que influenciam a satisfação dos clientes no e-commerce brasileiro, com base nas avaliações de pedidos da Olist.\n",
    "\n",
    "O objetivo é entender como variáveis como tempo de entrega, categoria do produto, localização do vendedor, valor da compra e método de pagamento afetam a experiência do consumidor e sua avaliação do pedido.\n",
    "\n",
    "##Perguntas de negócio:\n",
    "1. Qual o perfil dos pedidos com melhores e piores avaliações?\n",
    "\n",
    "2. O tempo de entrega impacta na nota da avaliação?\n",
    "\n",
    "3. Há categorias de produtos com maiores taxas de insatisfação?\n",
    "\n",
    "4. Compras com valor mais alto tendem a ter melhores avaliações?\n",
    "\n",
    "5. Existem estados ou regiões com mais reclamações?\n",
    "\n",
    "6. A forma de pagamento influencia a nota dada pelo cliente?"
   ]
  },
  {
   "cell_type": "markdown",
   "metadata": {
    "application/vnd.databricks.v1+cell": {
     "cellMetadata": {
      "byteLimit": 2048000,
      "rowLimit": 10000
     },
     "inputWidgets": {},
     "nuid": "fc6a7bfb-054d-44c8-8b7b-bb328b9d929d",
     "showTitle": false,
     "tableResultSettingsMap": {},
     "title": ""
    }
   },
   "source": [
    "##Camada Bronze"
   ]
  },
  {
   "cell_type": "code",
   "execution_count": 0,
   "metadata": {
    "application/vnd.databricks.v1+cell": {
     "cellMetadata": {
      "byteLimit": 2048000,
      "rowLimit": 10000
     },
     "inputWidgets": {},
     "nuid": "4202062e-4cca-4161-89b9-c9b40fd7b35c",
     "showTitle": false,
     "tableResultSettingsMap": {},
     "title": ""
    }
   },
   "outputs": [],
   "source": [
    "# Diretório base do projeto (no DBFS)\n",
    "bronze_path = \"/mnt/mvp_olist/bronze/\""
   ]
  },
  {
   "cell_type": "code",
   "execution_count": 0,
   "metadata": {
    "application/vnd.databricks.v1+cell": {
     "cellMetadata": {
      "byteLimit": 2048000,
      "rowLimit": 10000
     },
     "inputWidgets": {},
     "nuid": "86201027-a81b-40e2-a93f-db8396b0ecdc",
     "showTitle": false,
     "tableResultSettingsMap": {},
     "title": ""
    }
   },
   "outputs": [],
   "source": [
    "# Leitura do CSV orders\n",
    "df_orders = spark.read.csv(\"/FileStore/shared_uploads/martinsnunes.nati@gmail.com/olist_orders_dataset.csv\", header=True, inferSchema=True)\n",
    "\n",
    "# Escrita no formato Delta (camada Bronze)\n",
    "df_orders.write.format(\"delta\").mode(\"overwrite\").save(bronze_path + \"orders\")\n"
   ]
  },
  {
   "cell_type": "code",
   "execution_count": 0,
   "metadata": {
    "application/vnd.databricks.v1+cell": {
     "cellMetadata": {
      "byteLimit": 2048000,
      "rowLimit": 10000
     },
     "inputWidgets": {},
     "nuid": "f960c749-91b5-4ff5-8927-ea0678a727b8",
     "showTitle": false,
     "tableResultSettingsMap": {},
     "title": ""
    }
   },
   "outputs": [],
   "source": [
    "df_customers = spark.read.csv(\"/FileStore/shared_uploads/martinsnunes.nati@gmail.com/olist_customers_dataset.csv\", header=True, inferSchema=True)\n",
    "df_customers.write.format(\"delta\").mode(\"overwrite\").save(bronze_path + \"customers\")\n"
   ]
  },
  {
   "cell_type": "code",
   "execution_count": 0,
   "metadata": {
    "application/vnd.databricks.v1+cell": {
     "cellMetadata": {
      "byteLimit": 2048000,
      "rowLimit": 10000
     },
     "inputWidgets": {},
     "nuid": "7d469f89-2856-4fb7-923a-d0a2cfd60559",
     "showTitle": false,
     "tableResultSettingsMap": {},
     "title": ""
    }
   },
   "outputs": [],
   "source": [
    "df_items = spark.read.csv(\"/FileStore/shared_uploads/martinsnunes.nati@gmail.com/olist_order_items_dataset.csv\", header=True, inferSchema=True)\n",
    "df_items.write.format(\"delta\").mode(\"overwrite\").save(bronze_path + \"order_items\")\n"
   ]
  },
  {
   "cell_type": "code",
   "execution_count": 0,
   "metadata": {
    "application/vnd.databricks.v1+cell": {
     "cellMetadata": {
      "byteLimit": 2048000,
      "rowLimit": 10000
     },
     "inputWidgets": {},
     "nuid": "56358f75-25c5-4ce9-b375-0b544a2a70dd",
     "showTitle": false,
     "tableResultSettingsMap": {},
     "title": ""
    }
   },
   "outputs": [],
   "source": [
    "df_payments = spark.read.csv(\"/FileStore/shared_uploads/martinsnunes.nati@gmail.com/olist_order_payments_dataset.csv\", header=True, inferSchema=True)\n",
    "df_payments.write.format(\"delta\").mode(\"overwrite\").save(bronze_path + \"order_payments\")\n"
   ]
  },
  {
   "cell_type": "code",
   "execution_count": 0,
   "metadata": {
    "application/vnd.databricks.v1+cell": {
     "cellMetadata": {
      "byteLimit": 2048000,
      "rowLimit": 10000
     },
     "inputWidgets": {},
     "nuid": "9085e053-30f0-40a7-86da-a11049bc78c7",
     "showTitle": false,
     "tableResultSettingsMap": {},
     "title": ""
    }
   },
   "outputs": [],
   "source": [
    "df_reviews = spark.read.csv(\"/FileStore/shared_uploads/martinsnunes.nati@gmail.com/olist_order_reviews_dataset.csv\", header=True, inferSchema=True)\n",
    "df_reviews.write.format(\"delta\").mode(\"overwrite\").save(bronze_path + \"order_reviews\")\n"
   ]
  },
  {
   "cell_type": "code",
   "execution_count": 0,
   "metadata": {
    "application/vnd.databricks.v1+cell": {
     "cellMetadata": {
      "byteLimit": 2048000,
      "rowLimit": 10000
     },
     "inputWidgets": {},
     "nuid": "410a5a7a-4b83-48c8-aaf2-85dfcb54cf3e",
     "showTitle": false,
     "tableResultSettingsMap": {},
     "title": ""
    }
   },
   "outputs": [],
   "source": [
    "df_products = spark.read.csv(\"/FileStore/shared_uploads/martinsnunes.nati@gmail.com/olist_products_dataset.csv\", header=True, inferSchema=True)\n",
    "df_products.write.format(\"delta\").mode(\"overwrite\").save(bronze_path + \"products\")\n"
   ]
  },
  {
   "cell_type": "code",
   "execution_count": 0,
   "metadata": {
    "application/vnd.databricks.v1+cell": {
     "cellMetadata": {
      "byteLimit": 2048000,
      "rowLimit": 10000
     },
     "inputWidgets": {},
     "nuid": "221662ca-eae4-4c01-91a0-8870dcef6a21",
     "showTitle": false,
     "tableResultSettingsMap": {},
     "title": ""
    }
   },
   "outputs": [],
   "source": [
    "df_sellers = spark.read.csv(\"/FileStore/shared_uploads/martinsnunes.nati@gmail.com/olist_sellers_dataset.csv\", header=True, inferSchema=True)\n",
    "df_sellers.write.format(\"delta\").mode(\"overwrite\").save(bronze_path + \"sellers\")\n"
   ]
  },
  {
   "cell_type": "code",
   "execution_count": 0,
   "metadata": {
    "application/vnd.databricks.v1+cell": {
     "cellMetadata": {
      "byteLimit": 2048000,
      "rowLimit": 10000
     },
     "inputWidgets": {},
     "nuid": "97be695a-7327-47ef-992c-75d9b4e71384",
     "showTitle": false,
     "tableResultSettingsMap": {},
     "title": ""
    }
   },
   "outputs": [],
   "source": [
    "df_geo = spark.read.csv(\"/FileStore/shared_uploads/martinsnunes.nati@gmail.com/olist_geolocation_dataset.csv\", header=True, inferSchema=True)\n",
    "df_geo.write.format(\"delta\").mode(\"overwrite\").save(bronze_path + \"geolocation\")\n"
   ]
  },
  {
   "cell_type": "code",
   "execution_count": 0,
   "metadata": {
    "application/vnd.databricks.v1+cell": {
     "cellMetadata": {
      "byteLimit": 2048000,
      "rowLimit": 10000
     },
     "inputWidgets": {},
     "nuid": "0ca537ef-81e3-4cbe-bdc7-f59f345c4312",
     "showTitle": false,
     "tableResultSettingsMap": {},
     "title": ""
    }
   },
   "outputs": [],
   "source": [
    "df_cat_translation = spark.read.csv(\"/FileStore/shared_uploads/martinsnunes.nati@gmail.com/product_category_name_translation.csv\", header=True, inferSchema=True)\n",
    "df_cat_translation.write.format(\"delta\").mode(\"overwrite\").save(bronze_path + \"product_category_name_translation\")\n"
   ]
  },
  {
   "cell_type": "code",
   "execution_count": 0,
   "metadata": {
    "application/vnd.databricks.v1+cell": {
     "cellMetadata": {
      "byteLimit": 2048000,
      "rowLimit": 10000
     },
     "inputWidgets": {},
     "nuid": "65ccbd90-8e04-46ba-87f1-5c285fcdbaaf",
     "showTitle": false,
     "tableResultSettingsMap": {},
     "title": ""
    }
   },
   "outputs": [
    {
     "output_type": "stream",
     "name": "stdout",
     "output_type": "stream",
     "text": [
      "+--------------------+--------------------+------------+------------------------+-------------------+----------------------------+-----------------------------+-----------------------------+\n|            order_id|         customer_id|order_status|order_purchase_timestamp|  order_approved_at|order_delivered_carrier_date|order_delivered_customer_date|order_estimated_delivery_date|\n+--------------------+--------------------+------------+------------------------+-------------------+----------------------------+-----------------------------+-----------------------------+\n|e481f51cbdc54678b...|9ef432eb625129730...|   delivered|     2017-10-02 10:56:33|2017-10-02 11:07:15|         2017-10-04 19:55:00|          2017-10-10 21:25:13|          2017-10-18 00:00:00|\n|53cdb2fc8bc7dce0b...|b0830fb4747a6c6d2...|   delivered|     2018-07-24 20:41:37|2018-07-26 03:24:27|         2018-07-26 14:31:00|          2018-08-07 15:27:45|          2018-08-13 00:00:00|\n|47770eb9100c2d0c4...|41ce2a54c0b03bf34...|   delivered|     2018-08-08 08:38:49|2018-08-08 08:55:23|         2018-08-08 13:50:00|          2018-08-17 18:06:29|          2018-09-04 00:00:00|\n|949d5b44dbf5de918...|f88197465ea7920ad...|   delivered|     2017-11-18 19:28:06|2017-11-18 19:45:59|         2017-11-22 13:39:59|          2017-12-02 00:28:42|          2017-12-15 00:00:00|\n|ad21c59c0840e6cb8...|8ab97904e6daea886...|   delivered|     2018-02-13 21:18:39|2018-02-13 22:20:29|         2018-02-14 19:46:34|          2018-02-16 18:17:02|          2018-02-26 00:00:00|\n+--------------------+--------------------+------------+------------------------+-------------------+----------------------------+-----------------------------+-----------------------------+\nonly showing top 5 rows\n\n"
     ]
    }
   ],
   "source": [
    "# Validação da camada bronze\n",
    "df_orders.show(5)\n"
   ]
  },
  {
   "cell_type": "markdown",
   "metadata": {
    "application/vnd.databricks.v1+cell": {
     "cellMetadata": {
      "byteLimit": 2048000,
      "rowLimit": 10000
     },
     "inputWidgets": {},
     "nuid": "11530c38-a1b7-48d4-ae00-43933b3a5e3e",
     "showTitle": false,
     "tableResultSettingsMap": {},
     "title": ""
    }
   },
   "source": [
    "##Camada Silver"
   ]
  },
  {
   "cell_type": "code",
   "execution_count": 0,
   "metadata": {
    "application/vnd.databricks.v1+cell": {
     "cellMetadata": {
      "byteLimit": 2048000,
      "rowLimit": 10000
     },
     "inputWidgets": {},
     "nuid": "2ecb52a4-9a53-4e3c-b736-67ef9774c65c",
     "showTitle": false,
     "tableResultSettingsMap": {},
     "title": ""
    }
   },
   "outputs": [],
   "source": [
    "silver_path = \"/mnt/mvp_olist/silver/\""
   ]
  },
  {
   "cell_type": "code",
   "execution_count": 0,
   "metadata": {
    "application/vnd.databricks.v1+cell": {
     "cellMetadata": {
      "byteLimit": 2048000,
      "rowLimit": 10000
     },
     "inputWidgets": {},
     "nuid": "7c2de7b0-5c93-473c-a6f1-3d7cc0761b17",
     "showTitle": false,
     "tableResultSettingsMap": {},
     "title": ""
    }
   },
   "outputs": [],
   "source": [
    "# Leitura dos dados da camada Bronze\n",
    "df_orders = spark.read.format(\"delta\").load(bronze_path + \"orders\")\n",
    "df_items = spark.read.format(\"delta\").load(bronze_path + \"order_items\")\n",
    "\n",
    "# Importar funções úteis\n",
    "from pyspark.sql.functions import to_timestamp\n",
    "\n",
    "# Tratamento de datas\n",
    "df_orders = df_orders.withColumn(\"order_purchase_timestamp\", to_timestamp(\"order_purchase_timestamp\")) \\\n",
    "                     .withColumn(\"order_approved_at\", to_timestamp(\"order_approved_at\")) \\\n",
    "                     .withColumn(\"order_delivered_carrier_date\", to_timestamp(\"order_delivered_carrier_date\")) \\\n",
    "                     .withColumn(\"order_delivered_customer_date\", to_timestamp(\"order_delivered_customer_date\")) \\\n",
    "                     .withColumn(\"order_estimated_delivery_date\", to_timestamp(\"order_estimated_delivery_date\"))\n",
    "\n",
    "# Join entre pedidos e itens\n",
    "df_orders_items = df_orders.join(df_items, on=\"order_id\", how=\"inner\")\n",
    "\n",
    "# Salvando camada Silver\n",
    "df_orders_items.write.format(\"delta\").mode(\"overwrite\").save(silver_path + \"orders_items\")\n"
   ]
  },
  {
   "cell_type": "code",
   "execution_count": 0,
   "metadata": {
    "application/vnd.databricks.v1+cell": {
     "cellMetadata": {
      "byteLimit": 2048000,
      "rowLimit": 10000
     },
     "inputWidgets": {},
     "nuid": "6886b529-299b-4af6-bc3b-466870f11b0f",
     "showTitle": false,
     "tableResultSettingsMap": {},
     "title": ""
    }
   },
   "outputs": [],
   "source": [
    "df_customers = spark.read.format(\"delta\").load(bronze_path + \"customers\")\n",
    "\n",
    "# Selecionar colunas relevantes\n",
    "df_customers = df_customers.select(\"customer_id\", \"customer_city\", \"customer_state\")\n",
    "\n",
    "df_customers.write.format(\"delta\").mode(\"overwrite\").save(silver_path + \"customers\")\n"
   ]
  },
  {
   "cell_type": "code",
   "execution_count": 0,
   "metadata": {
    "application/vnd.databricks.v1+cell": {
     "cellMetadata": {
      "byteLimit": 2048000,
      "rowLimit": 10000
     },
     "inputWidgets": {},
     "nuid": "761f7d8e-b37a-4d80-ad3d-96a9112f6e9c",
     "showTitle": false,
     "tableResultSettingsMap": {},
     "title": ""
    }
   },
   "outputs": [],
   "source": [
    "df_products = spark.read.format(\"delta\").load(bronze_path + \"products\")\n",
    "df_cat = spark.read.format(\"delta\").load(bronze_path + \"product_category_name_translation\")\n",
    "\n",
    "df_products = df_products.join(df_cat, on=\"product_category_name\", how=\"left\")\n",
    "\n",
    "df_products.write.format(\"delta\").mode(\"overwrite\").save(silver_path + \"products\")\n"
   ]
  },
  {
   "cell_type": "code",
   "execution_count": 0,
   "metadata": {
    "application/vnd.databricks.v1+cell": {
     "cellMetadata": {
      "byteLimit": 2048000,
      "rowLimit": 10000
     },
     "inputWidgets": {},
     "nuid": "84abbc75-4526-4304-8ac0-844bf06a77e1",
     "showTitle": false,
     "tableResultSettingsMap": {},
     "title": ""
    }
   },
   "outputs": [],
   "source": [
    "from pyspark.sql.functions import col\n",
    "\n",
    "df_payments = spark.read.format(\"delta\").load(bronze_path + \"order_payments\")\n",
    "\n",
    "df_payments = df_payments.withColumn(\"payment_value\", col(\"payment_value\").cast(\"double\"))\n",
    "\n",
    "df_payments.write.format(\"delta\").mode(\"overwrite\").save(silver_path + \"order_payments\")\n"
   ]
  },
  {
   "cell_type": "code",
   "execution_count": 0,
   "metadata": {
    "application/vnd.databricks.v1+cell": {
     "cellMetadata": {
      "byteLimit": 2048000,
      "rowLimit": 10000
     },
     "inputWidgets": {},
     "nuid": "5484baba-fa9b-4bff-b84a-aa0a7dcc7880",
     "showTitle": false,
     "tableResultSettingsMap": {},
     "title": ""
    }
   },
   "outputs": [],
   "source": [
    "df_reviews = spark.read.format(\"delta\").load(bronze_path + \"order_reviews\")\n",
    "\n",
    "# Converter a data para timestamp\n",
    "df_reviews = df_reviews.withColumn(\"review_creation_date\", to_timestamp(\"review_creation_date\")) \\\n",
    "                       .withColumn(\"review_answer_timestamp\", to_timestamp(\"review_answer_timestamp\"))\n",
    "\n",
    "df_reviews.write.format(\"delta\").mode(\"overwrite\").save(silver_path + \"order_reviews\")\n"
   ]
  },
  {
   "cell_type": "code",
   "execution_count": 0,
   "metadata": {
    "application/vnd.databricks.v1+cell": {
     "cellMetadata": {
      "byteLimit": 2048000,
      "rowLimit": 10000
     },
     "inputWidgets": {},
     "nuid": "c1f5c408-c25c-49a5-b008-972f18e15aa5",
     "showTitle": false,
     "tableResultSettingsMap": {},
     "title": ""
    }
   },
   "outputs": [],
   "source": [
    "df_sellers = spark.read.format(\"delta\").load(bronze_path + \"sellers\")\n",
    "df_sellers.write.format(\"delta\").mode(\"overwrite\").save(silver_path + \"sellers\")\n"
   ]
  },
  {
   "cell_type": "code",
   "execution_count": 0,
   "metadata": {
    "application/vnd.databricks.v1+cell": {
     "cellMetadata": {
      "byteLimit": 2048000,
      "rowLimit": 10000
     },
     "inputWidgets": {},
     "nuid": "d3ecf683-7cd0-4901-9467-803cb9530e30",
     "showTitle": false,
     "tableResultSettingsMap": {},
     "title": ""
    }
   },
   "outputs": [],
   "source": [
    "df_geo = spark.read.format(\"delta\").load(bronze_path + \"geolocation\")\n",
    "df_geo.write.format(\"delta\").mode(\"overwrite\").save(silver_path + \"geolocation\")\n"
   ]
  },
  {
   "cell_type": "markdown",
   "metadata": {
    "application/vnd.databricks.v1+cell": {
     "cellMetadata": {
      "byteLimit": 2048000,
      "rowLimit": 10000
     },
     "inputWidgets": {},
     "nuid": "9ca3cc3a-5e95-4701-95a9-29749bbd0458",
     "showTitle": false,
     "tableResultSettingsMap": {},
     "title": ""
    }
   },
   "source": [
    "##Camada Gold"
   ]
  },
  {
   "cell_type": "code",
   "execution_count": 0,
   "metadata": {
    "application/vnd.databricks.v1+cell": {
     "cellMetadata": {
      "byteLimit": 2048000,
      "rowLimit": 10000
     },
     "inputWidgets": {},
     "nuid": "61e50968-fe3d-492d-b051-8aa9f58a00df",
     "showTitle": false,
     "tableResultSettingsMap": {},
     "title": ""
    }
   },
   "outputs": [],
   "source": [
    "silver_path = \"/mnt/mvp_olist/silver/\"\n",
    "\n",
    "df_orders_items = spark.read.format(\"delta\").load(silver_path + \"orders_items\")\n",
    "df_reviews = spark.read.format(\"delta\").load(silver_path + \"order_reviews\")\n",
    "df_customers = spark.read.format(\"delta\").load(silver_path + \"customers\")\n",
    "df_products = spark.read.format(\"delta\").load(silver_path + \"products\")\n",
    "df_payments = spark.read.format(\"delta\").load(silver_path + \"order_payments\")\n"
   ]
  },
  {
   "cell_type": "code",
   "execution_count": 0,
   "metadata": {
    "application/vnd.databricks.v1+cell": {
     "cellMetadata": {
      "byteLimit": 2048000,
      "rowLimit": 10000
     },
     "inputWidgets": {},
     "nuid": "9eab8dfe-1973-4dbf-a72c-0b36a12fd749",
     "showTitle": false,
     "tableResultSettingsMap": {},
     "title": ""
    }
   },
   "outputs": [],
   "source": [
    "# Imports úteis\n",
    "from pyspark.sql.functions import col, datediff\n",
    "\n",
    "# Join com reviews\n",
    "df = df_orders_items.join(df_reviews.select(\"order_id\", \"review_score\"), on=\"order_id\", how=\"left\")\n",
    "\n",
    "# Join com clientes\n",
    "df = df.join(df_customers, on=\"customer_id\", how=\"left\")\n",
    "\n",
    "# Join com produtos\n",
    "df = df.join(df_products.select(\"product_id\", \"product_category_name_english\"), on=\"product_id\", how=\"left\")\n",
    "\n",
    "# Join com pagamentos\n",
    "df = df.join(df_payments.select(\"order_id\", \"payment_type\", \"payment_value\"), on=\"order_id\", how=\"left\")\n",
    "\n",
    "# Calcular tempo de entrega (em dias)\n",
    "df = df.withColumn(\"delivery_days\", datediff(\"order_delivered_customer_date\", \"order_purchase_timestamp\"))\n"
   ]
  },
  {
   "cell_type": "code",
   "execution_count": 0,
   "metadata": {
    "application/vnd.databricks.v1+cell": {
     "cellMetadata": {
      "byteLimit": 2048000,
      "rowLimit": 10000
     },
     "inputWidgets": {},
     "nuid": "b2d82d14-f0cc-4812-a2d5-3ed02834ad1f",
     "showTitle": false,
     "tableResultSettingsMap": {},
     "title": ""
    }
   },
   "outputs": [],
   "source": [
    "gold_path = \"/mnt/mvp_olist/gold/\"\n",
    "\n",
    "df.write.format(\"delta\").mode(\"overwrite\").saveAsTable(\"gold_orders_analytics\")"
   ]
  },
  {
   "cell_type": "code",
   "execution_count": 0,
   "metadata": {
    "application/vnd.databricks.v1+cell": {
     "cellMetadata": {
      "byteLimit": 2048000,
      "implicitDf": true,
      "rowLimit": 10000
     },
     "inputWidgets": {},
     "nuid": "58298dc0-7a79-46cc-b741-f8039441c9b3",
     "showTitle": false,
     "tableResultSettingsMap": {},
     "title": ""
    }
   },
   "outputs": [
    {
     "output_type": "display_data",
     "data": {
      "text/html": [
       "<style scoped>\n",
       "  .table-result-container {\n",
       "    max-height: 300px;\n",
       "    overflow: auto;\n",
       "  }\n",
       "  table, th, td {\n",
       "    border: 1px solid black;\n",
       "    border-collapse: collapse;\n",
       "  }\n",
       "  th, td {\n",
       "    padding: 5px;\n",
       "  }\n",
       "  th {\n",
       "    text-align: left;\n",
       "  }\n",
       "</style><div class='table-result-container'><table class='table-result'><thead style='background-color: white'><tr><th>order_id</th><th>product_id</th><th>customer_id</th><th>order_status</th><th>order_purchase_timestamp</th><th>order_approved_at</th><th>order_delivered_carrier_date</th><th>order_delivered_customer_date</th><th>order_estimated_delivery_date</th><th>order_item_id</th><th>seller_id</th><th>shipping_limit_date</th><th>price</th><th>freight_value</th><th>review_score</th><th>customer_city</th><th>customer_state</th><th>product_category_name_english</th><th>payment_type</th><th>payment_value</th><th>delivery_days</th></tr></thead><tbody><tr><td>e481f51cbdc54678b7cc49136f2d6af7</td><td>87285b34884572647811a353c7ac498a</td><td>9ef432eb6251297304e76186b10a928d</td><td>delivered</td><td>2017-10-02T10:56:33.000+0000</td><td>2017-10-02T11:07:15.000+0000</td><td>2017-10-04T19:55:00.000+0000</td><td>2017-10-10T21:25:13.000+0000</td><td>2017-10-18T00:00:00.000+0000</td><td>1</td><td>3504c0cb71d7fa48d967e0e4c94d59d9</td><td>2017-10-06T11:07:15.000+0000</td><td>29.99</td><td>8.72</td><td>4</td><td>sao paulo</td><td>SP</td><td>housewares</td><td>voucher</td><td>18.59</td><td>8</td></tr><tr><td>e481f51cbdc54678b7cc49136f2d6af7</td><td>87285b34884572647811a353c7ac498a</td><td>9ef432eb6251297304e76186b10a928d</td><td>delivered</td><td>2017-10-02T10:56:33.000+0000</td><td>2017-10-02T11:07:15.000+0000</td><td>2017-10-04T19:55:00.000+0000</td><td>2017-10-10T21:25:13.000+0000</td><td>2017-10-18T00:00:00.000+0000</td><td>1</td><td>3504c0cb71d7fa48d967e0e4c94d59d9</td><td>2017-10-06T11:07:15.000+0000</td><td>29.99</td><td>8.72</td><td>4</td><td>sao paulo</td><td>SP</td><td>housewares</td><td>voucher</td><td>2.0</td><td>8</td></tr><tr><td>e481f51cbdc54678b7cc49136f2d6af7</td><td>87285b34884572647811a353c7ac498a</td><td>9ef432eb6251297304e76186b10a928d</td><td>delivered</td><td>2017-10-02T10:56:33.000+0000</td><td>2017-10-02T11:07:15.000+0000</td><td>2017-10-04T19:55:00.000+0000</td><td>2017-10-10T21:25:13.000+0000</td><td>2017-10-18T00:00:00.000+0000</td><td>1</td><td>3504c0cb71d7fa48d967e0e4c94d59d9</td><td>2017-10-06T11:07:15.000+0000</td><td>29.99</td><td>8.72</td><td>4</td><td>sao paulo</td><td>SP</td><td>housewares</td><td>credit_card</td><td>18.12</td><td>8</td></tr><tr><td>53cdb2fc8bc7dce0b6741e2150273451</td><td>595fac2a385ac33a80bd5114aec74eb8</td><td>b0830fb4747a6c6d20dea0b8c802d7ef</td><td>delivered</td><td>2018-07-24T20:41:37.000+0000</td><td>2018-07-26T03:24:27.000+0000</td><td>2018-07-26T14:31:00.000+0000</td><td>2018-08-07T15:27:45.000+0000</td><td>2018-08-13T00:00:00.000+0000</td><td>1</td><td>289cdb325fb7e7f891c38608bf9e0962</td><td>2018-07-30T03:24:27.000+0000</td><td>118.7</td><td>22.76</td><td>4</td><td>barreiras</td><td>BA</td><td>perfumery</td><td>boleto</td><td>141.46</td><td>14</td></tr><tr><td>47770eb9100c2d0c44946d9cf07ec65d</td><td>aa4383b373c6aca5d8797843e5594415</td><td>41ce2a54c0b03bf3443c3d931a367089</td><td>delivered</td><td>2018-08-08T08:38:49.000+0000</td><td>2018-08-08T08:55:23.000+0000</td><td>2018-08-08T13:50:00.000+0000</td><td>2018-08-17T18:06:29.000+0000</td><td>2018-09-04T00:00:00.000+0000</td><td>1</td><td>4869f7a5dfa277a7dca6462dcf3b52b2</td><td>2018-08-13T08:55:23.000+0000</td><td>159.9</td><td>19.22</td><td>5</td><td>vianopolis</td><td>GO</td><td>auto</td><td>credit_card</td><td>179.12</td><td>9</td></tr><tr><td>949d5b44dbf5de918fe9c16f97b45f8a</td><td>d0b61bfb1de832b15ba9d266ca96e5b0</td><td>f88197465ea7920adcdbec7375364d82</td><td>delivered</td><td>2017-11-18T19:28:06.000+0000</td><td>2017-11-18T19:45:59.000+0000</td><td>2017-11-22T13:39:59.000+0000</td><td>2017-12-02T00:28:42.000+0000</td><td>2017-12-15T00:00:00.000+0000</td><td>1</td><td>66922902710d126a0e7d26b0e3805106</td><td>2017-11-23T19:45:59.000+0000</td><td>45.0</td><td>27.2</td><td>5</td><td>sao goncalo do amarante</td><td>RN</td><td>pet_shop</td><td>credit_card</td><td>72.2</td><td>14</td></tr><tr><td>ad21c59c0840e6cb83a9ceb5573f8159</td><td>65266b2da20d04dbe00c5c2d3bb7859e</td><td>8ab97904e6daea8866dbdbc4fb7aad2c</td><td>delivered</td><td>2018-02-13T21:18:39.000+0000</td><td>2018-02-13T22:20:29.000+0000</td><td>2018-02-14T19:46:34.000+0000</td><td>2018-02-16T18:17:02.000+0000</td><td>2018-02-26T00:00:00.000+0000</td><td>1</td><td>2c9e548be18521d1c43cde1c582c6de8</td><td>2018-02-19T20:31:37.000+0000</td><td>19.9</td><td>8.72</td><td>5</td><td>santo andre</td><td>SP</td><td>stationery</td><td>credit_card</td><td>28.62</td><td>3</td></tr><tr><td>a4591c265e18cb1dcee52889e2d8acc3</td><td>060cb19345d90064d1015407193c233d</td><td>503740e9ca751ccdda7ba28e9ab8f608</td><td>delivered</td><td>2017-07-09T21:57:05.000+0000</td><td>2017-07-09T22:10:13.000+0000</td><td>2017-07-11T14:58:04.000+0000</td><td>2017-07-26T10:57:55.000+0000</td><td>2017-08-01T00:00:00.000+0000</td><td>1</td><td>8581055ce74af1daba164fdbd55a40de</td><td>2017-07-13T22:10:13.000+0000</td><td>147.9</td><td>27.36</td><td>4</td><td>congonhinhas</td><td>PR</td><td>auto</td><td>credit_card</td><td>175.26</td><td>17</td></tr><tr><td>136cce7faa42fdb2cefd53fdc79a6098</td><td>a1804276d9941ac0733cfd409f5206eb</td><td>ed0271e0b7da060a393796590e7b737a</td><td>invoiced</td><td>2017-04-11T12:22:08.000+0000</td><td>2017-04-13T13:25:17.000+0000</td><td>null</td><td>null</td><td>2017-05-09T00:00:00.000+0000</td><td>1</td><td>dc8798cbf453b7e0f98745e396cc5616</td><td>2017-04-19T13:25:17.000+0000</td><td>49.9</td><td>16.05</td><td>2</td><td>santa rosa</td><td>RS</td><td>null</td><td>credit_card</td><td>65.95</td><td>null</td></tr><tr><td>6514b8ad8028c9f2cc2374ded245783f</td><td>4520766ec412348b8d4caa5e8a18c464</td><td>9bdf08b4b3b52b5526ff42d37d47f222</td><td>delivered</td><td>2017-05-16T13:10:30.000+0000</td><td>2017-05-16T13:22:11.000+0000</td><td>2017-05-22T10:07:46.000+0000</td><td>2017-05-26T12:55:51.000+0000</td><td>2017-06-07T00:00:00.000+0000</td><td>1</td><td>16090f2ca825584b5a147ab24aa30c86</td><td>2017-05-22T13:22:11.000+0000</td><td>59.99</td><td>15.17</td><td>5</td><td>nilopolis</td><td>RJ</td><td>auto</td><td>credit_card</td><td>75.16</td><td>10</td></tr></tbody></table></div>"
      ]
     },
     "metadata": {
      "application/vnd.databricks.v1+output": {
       "addedWidgets": {},
       "aggData": [],
       "aggError": "",
       "aggOverflow": false,
       "aggSchema": [],
       "aggSeriesLimitReached": false,
       "aggType": "",
       "arguments": {},
       "columnCustomDisplayInfos": {},
       "data": [
        [
         "e481f51cbdc54678b7cc49136f2d6af7",
         "87285b34884572647811a353c7ac498a",
         "9ef432eb6251297304e76186b10a928d",
         "delivered",
         "2017-10-02T10:56:33.000+0000",
         "2017-10-02T11:07:15.000+0000",
         "2017-10-04T19:55:00.000+0000",
         "2017-10-10T21:25:13.000+0000",
         "2017-10-18T00:00:00.000+0000",
         1,
         "3504c0cb71d7fa48d967e0e4c94d59d9",
         "2017-10-06T11:07:15.000+0000",
         29.99,
         8.72,
         "4",
         "sao paulo",
         "SP",
         "housewares",
         "voucher",
         18.59,
         8
        ],
        [
         "e481f51cbdc54678b7cc49136f2d6af7",
         "87285b34884572647811a353c7ac498a",
         "9ef432eb6251297304e76186b10a928d",
         "delivered",
         "2017-10-02T10:56:33.000+0000",
         "2017-10-02T11:07:15.000+0000",
         "2017-10-04T19:55:00.000+0000",
         "2017-10-10T21:25:13.000+0000",
         "2017-10-18T00:00:00.000+0000",
         1,
         "3504c0cb71d7fa48d967e0e4c94d59d9",
         "2017-10-06T11:07:15.000+0000",
         29.99,
         8.72,
         "4",
         "sao paulo",
         "SP",
         "housewares",
         "voucher",
         2.0,
         8
        ],
        [
         "e481f51cbdc54678b7cc49136f2d6af7",
         "87285b34884572647811a353c7ac498a",
         "9ef432eb6251297304e76186b10a928d",
         "delivered",
         "2017-10-02T10:56:33.000+0000",
         "2017-10-02T11:07:15.000+0000",
         "2017-10-04T19:55:00.000+0000",
         "2017-10-10T21:25:13.000+0000",
         "2017-10-18T00:00:00.000+0000",
         1,
         "3504c0cb71d7fa48d967e0e4c94d59d9",
         "2017-10-06T11:07:15.000+0000",
         29.99,
         8.72,
         "4",
         "sao paulo",
         "SP",
         "housewares",
         "credit_card",
         18.12,
         8
        ],
        [
         "53cdb2fc8bc7dce0b6741e2150273451",
         "595fac2a385ac33a80bd5114aec74eb8",
         "b0830fb4747a6c6d20dea0b8c802d7ef",
         "delivered",
         "2018-07-24T20:41:37.000+0000",
         "2018-07-26T03:24:27.000+0000",
         "2018-07-26T14:31:00.000+0000",
         "2018-08-07T15:27:45.000+0000",
         "2018-08-13T00:00:00.000+0000",
         1,
         "289cdb325fb7e7f891c38608bf9e0962",
         "2018-07-30T03:24:27.000+0000",
         118.7,
         22.76,
         "4",
         "barreiras",
         "BA",
         "perfumery",
         "boleto",
         141.46,
         14
        ],
        [
         "47770eb9100c2d0c44946d9cf07ec65d",
         "aa4383b373c6aca5d8797843e5594415",
         "41ce2a54c0b03bf3443c3d931a367089",
         "delivered",
         "2018-08-08T08:38:49.000+0000",
         "2018-08-08T08:55:23.000+0000",
         "2018-08-08T13:50:00.000+0000",
         "2018-08-17T18:06:29.000+0000",
         "2018-09-04T00:00:00.000+0000",
         1,
         "4869f7a5dfa277a7dca6462dcf3b52b2",
         "2018-08-13T08:55:23.000+0000",
         159.9,
         19.22,
         "5",
         "vianopolis",
         "GO",
         "auto",
         "credit_card",
         179.12,
         9
        ],
        [
         "949d5b44dbf5de918fe9c16f97b45f8a",
         "d0b61bfb1de832b15ba9d266ca96e5b0",
         "f88197465ea7920adcdbec7375364d82",
         "delivered",
         "2017-11-18T19:28:06.000+0000",
         "2017-11-18T19:45:59.000+0000",
         "2017-11-22T13:39:59.000+0000",
         "2017-12-02T00:28:42.000+0000",
         "2017-12-15T00:00:00.000+0000",
         1,
         "66922902710d126a0e7d26b0e3805106",
         "2017-11-23T19:45:59.000+0000",
         45.0,
         27.2,
         "5",
         "sao goncalo do amarante",
         "RN",
         "pet_shop",
         "credit_card",
         72.2,
         14
        ],
        [
         "ad21c59c0840e6cb83a9ceb5573f8159",
         "65266b2da20d04dbe00c5c2d3bb7859e",
         "8ab97904e6daea8866dbdbc4fb7aad2c",
         "delivered",
         "2018-02-13T21:18:39.000+0000",
         "2018-02-13T22:20:29.000+0000",
         "2018-02-14T19:46:34.000+0000",
         "2018-02-16T18:17:02.000+0000",
         "2018-02-26T00:00:00.000+0000",
         1,
         "2c9e548be18521d1c43cde1c582c6de8",
         "2018-02-19T20:31:37.000+0000",
         19.9,
         8.72,
         "5",
         "santo andre",
         "SP",
         "stationery",
         "credit_card",
         28.62,
         3
        ],
        [
         "a4591c265e18cb1dcee52889e2d8acc3",
         "060cb19345d90064d1015407193c233d",
         "503740e9ca751ccdda7ba28e9ab8f608",
         "delivered",
         "2017-07-09T21:57:05.000+0000",
         "2017-07-09T22:10:13.000+0000",
         "2017-07-11T14:58:04.000+0000",
         "2017-07-26T10:57:55.000+0000",
         "2017-08-01T00:00:00.000+0000",
         1,
         "8581055ce74af1daba164fdbd55a40de",
         "2017-07-13T22:10:13.000+0000",
         147.9,
         27.36,
         "4",
         "congonhinhas",
         "PR",
         "auto",
         "credit_card",
         175.26,
         17
        ],
        [
         "136cce7faa42fdb2cefd53fdc79a6098",
         "a1804276d9941ac0733cfd409f5206eb",
         "ed0271e0b7da060a393796590e7b737a",
         "invoiced",
         "2017-04-11T12:22:08.000+0000",
         "2017-04-13T13:25:17.000+0000",
         null,
         null,
         "2017-05-09T00:00:00.000+0000",
         1,
         "dc8798cbf453b7e0f98745e396cc5616",
         "2017-04-19T13:25:17.000+0000",
         49.9,
         16.05,
         "2",
         "santa rosa",
         "RS",
         null,
         "credit_card",
         65.95,
         null
        ],
        [
         "6514b8ad8028c9f2cc2374ded245783f",
         "4520766ec412348b8d4caa5e8a18c464",
         "9bdf08b4b3b52b5526ff42d37d47f222",
         "delivered",
         "2017-05-16T13:10:30.000+0000",
         "2017-05-16T13:22:11.000+0000",
         "2017-05-22T10:07:46.000+0000",
         "2017-05-26T12:55:51.000+0000",
         "2017-06-07T00:00:00.000+0000",
         1,
         "16090f2ca825584b5a147ab24aa30c86",
         "2017-05-22T13:22:11.000+0000",
         59.99,
         15.17,
         "5",
         "nilopolis",
         "RJ",
         "auto",
         "credit_card",
         75.16,
         10
        ]
       ],
       "datasetInfos": [],
       "dbfsResultPath": null,
       "isJsonSchema": true,
       "metadata": {},
       "overflow": false,
       "plotOptions": {
        "customPlotOptions": {},
        "displayType": "table",
        "pivotAggregation": null,
        "pivotColumns": null,
        "xColumns": null,
        "yColumns": null
       },
       "removedWidgets": [],
       "schema": [
        {
         "metadata": "{}",
         "name": "order_id",
         "type": "\"string\""
        },
        {
         "metadata": "{}",
         "name": "product_id",
         "type": "\"string\""
        },
        {
         "metadata": "{}",
         "name": "customer_id",
         "type": "\"string\""
        },
        {
         "metadata": "{}",
         "name": "order_status",
         "type": "\"string\""
        },
        {
         "metadata": "{}",
         "name": "order_purchase_timestamp",
         "type": "\"timestamp\""
        },
        {
         "metadata": "{}",
         "name": "order_approved_at",
         "type": "\"timestamp\""
        },
        {
         "metadata": "{}",
         "name": "order_delivered_carrier_date",
         "type": "\"timestamp\""
        },
        {
         "metadata": "{}",
         "name": "order_delivered_customer_date",
         "type": "\"timestamp\""
        },
        {
         "metadata": "{}",
         "name": "order_estimated_delivery_date",
         "type": "\"timestamp\""
        },
        {
         "metadata": "{}",
         "name": "order_item_id",
         "type": "\"integer\""
        },
        {
         "metadata": "{}",
         "name": "seller_id",
         "type": "\"string\""
        },
        {
         "metadata": "{}",
         "name": "shipping_limit_date",
         "type": "\"timestamp\""
        },
        {
         "metadata": "{}",
         "name": "price",
         "type": "\"double\""
        },
        {
         "metadata": "{}",
         "name": "freight_value",
         "type": "\"double\""
        },
        {
         "metadata": "{}",
         "name": "review_score",
         "type": "\"string\""
        },
        {
         "metadata": "{}",
         "name": "customer_city",
         "type": "\"string\""
        },
        {
         "metadata": "{}",
         "name": "customer_state",
         "type": "\"string\""
        },
        {
         "metadata": "{}",
         "name": "product_category_name_english",
         "type": "\"string\""
        },
        {
         "metadata": "{}",
         "name": "payment_type",
         "type": "\"string\""
        },
        {
         "metadata": "{}",
         "name": "payment_value",
         "type": "\"double\""
        },
        {
         "metadata": "{}",
         "name": "delivery_days",
         "type": "\"integer\""
        }
       ],
       "type": "table"
      }
     },
     "output_type": "display_data"
    }
   ],
   "source": [
    "%sql\n",
    "-- Validação camada Gold\n",
    "\n",
    "SELECT * FROM gold_orders_analytics LIMIT 10;"
   ]
  },
  {
   "cell_type": "markdown",
   "metadata": {
    "application/vnd.databricks.v1+cell": {
     "cellMetadata": {
      "byteLimit": 2048000,
      "rowLimit": 10000
     },
     "inputWidgets": {},
     "nuid": "690cef66-c5d2-4d05-876f-c51ffb54496e",
     "showTitle": false,
     "tableResultSettingsMap": {},
     "title": ""
    }
   },
   "source": [
    "# Análises"
   ]
  },
  {
   "cell_type": "markdown",
   "metadata": {
    "application/vnd.databricks.v1+cell": {
     "cellMetadata": {
      "byteLimit": 2048000,
      "rowLimit": 10000
     },
     "inputWidgets": {},
     "nuid": "c2ad5728-3829-4946-8666-b0c9e5b30da3",
     "showTitle": false,
     "tableResultSettingsMap": {},
     "title": ""
    }
   },
   "source": [
    "## Pergunta 1\n",
    "Qual o perfil dos pedidos com melhores e piores avaliações?"
   ]
  },
  {
   "cell_type": "code",
   "execution_count": 0,
   "metadata": {
    "application/vnd.databricks.v1+cell": {
     "cellMetadata": {
      "byteLimit": 2048000,
      "implicitDf": true,
      "rowLimit": 10000
     },
     "inputWidgets": {},
     "nuid": "df258663-cbb1-4f0f-a869-2519a6893c8b",
     "showTitle": false,
     "tableResultSettingsMap": {},
     "title": ""
    }
   },
   "outputs": [
    {
     "output_type": "display_data",
     "data": {
      "text/html": [
       "<style scoped>\n",
       "  .table-result-container {\n",
       "    max-height: 300px;\n",
       "    overflow: auto;\n",
       "  }\n",
       "  table, th, td {\n",
       "    border: 1px solid black;\n",
       "    border-collapse: collapse;\n",
       "  }\n",
       "  th, td {\n",
       "    padding: 5px;\n",
       "  }\n",
       "  th {\n",
       "    text-align: left;\n",
       "  }\n",
       "</style><div class='table-result-container'><table class='table-result'><thead style='background-color: white'><tr><th>review_score</th><th>total</th></tr></thead><tbody><tr><td>null</td><td>978</td></tr><tr><td>1</td><td>14857</td></tr><tr><td>2</td><td>4085</td></tr><tr><td>3</td><td>9840</td></tr><tr><td>4</td><td>22286</td></tr><tr><td>5</td><td>66264</td></tr></tbody></table></div>"
      ]
     },
     "metadata": {
      "application/vnd.databricks.v1+output": {
       "addedWidgets": {},
       "aggData": [],
       "aggError": "",
       "aggOverflow": false,
       "aggSchema": [],
       "aggSeriesLimitReached": false,
       "aggType": "",
       "arguments": {},
       "columnCustomDisplayInfos": {},
       "data": [
        [
         null,
         978
        ],
        [
         "1",
         14857
        ],
        [
         "2",
         4085
        ],
        [
         "3",
         9840
        ],
        [
         "4",
         22286
        ],
        [
         "5",
         66264
        ]
       ],
       "datasetInfos": [],
       "dbfsResultPath": null,
       "isJsonSchema": true,
       "metadata": {},
       "overflow": false,
       "plotOptions": {
        "customPlotOptions": {},
        "displayType": "table",
        "pivotAggregation": null,
        "pivotColumns": null,
        "xColumns": null,
        "yColumns": null
       },
       "removedWidgets": [],
       "schema": [
        {
         "metadata": "{}",
         "name": "review_score",
         "type": "\"string\""
        },
        {
         "metadata": "{}",
         "name": "total",
         "type": "\"long\""
        }
       ],
       "type": "table"
      }
     },
     "output_type": "display_data"
    }
   ],
   "source": [
    "%sql\n",
    "-- Distribuição geral das notas\n",
    "SELECT \n",
    "  review_score, \n",
    "  COUNT(*) AS total\n",
    "FROM gold_orders_analytics\n",
    "GROUP BY review_score\n",
    "ORDER BY review_score"
   ]
  },
  {
   "cell_type": "code",
   "execution_count": 0,
   "metadata": {
    "application/vnd.databricks.v1+cell": {
     "cellMetadata": {
      "byteLimit": 2048000,
      "implicitDf": true,
      "rowLimit": 10000
     },
     "inputWidgets": {},
     "nuid": "0f72f3bf-f5a6-488f-9b0b-5ea31fd7feb5",
     "showTitle": false,
     "tableResultSettingsMap": {},
     "title": ""
    }
   },
   "outputs": [
    {
     "output_type": "display_data",
     "data": {
      "text/html": [
       "<style scoped>\n",
       "  .table-result-container {\n",
       "    max-height: 300px;\n",
       "    overflow: auto;\n",
       "  }\n",
       "  table, th, td {\n",
       "    border: 1px solid black;\n",
       "    border-collapse: collapse;\n",
       "  }\n",
       "  th, td {\n",
       "    padding: 5px;\n",
       "  }\n",
       "  th {\n",
       "    text-align: left;\n",
       "  }\n",
       "</style><div class='table-result-container'><table class='table-result'><thead style='background-color: white'><tr><th>payment_type</th><th>nota_1</th></tr></thead><tbody><tr><td>credit_card</td><td>10984</td></tr><tr><td>boleto</td><td>2897</td></tr><tr><td>voucher</td><td>796</td></tr><tr><td>debit_card</td><td>177</td></tr><tr><td>null</td><td>3</td></tr></tbody></table></div>"
      ]
     },
     "metadata": {
      "application/vnd.databricks.v1+output": {
       "addedWidgets": {},
       "aggData": [],
       "aggError": "",
       "aggOverflow": false,
       "aggSchema": [],
       "aggSeriesLimitReached": false,
       "aggType": "",
       "arguments": {},
       "columnCustomDisplayInfos": {},
       "data": [
        [
         "credit_card",
         10984
        ],
        [
         "boleto",
         2897
        ],
        [
         "voucher",
         796
        ],
        [
         "debit_card",
         177
        ],
        [
         null,
         3
        ]
       ],
       "datasetInfos": [],
       "dbfsResultPath": null,
       "isJsonSchema": true,
       "metadata": {},
       "overflow": false,
       "plotOptions": {
        "customPlotOptions": {},
        "displayType": "table",
        "pivotAggregation": null,
        "pivotColumns": null,
        "xColumns": null,
        "yColumns": null
       },
       "removedWidgets": [],
       "schema": [
        {
         "metadata": "{}",
         "name": "payment_type",
         "type": "\"string\""
        },
        {
         "metadata": "{}",
         "name": "nota_1",
         "type": "\"long\""
        }
       ],
       "type": "table"
      }
     },
     "output_type": "display_data"
    }
   ],
   "source": [
    "%sql\n",
    "-- Perfil por forma de pagamento\n",
    "-- Nota 1\n",
    "SELECT \n",
    "  payment_type, \n",
    "  COUNT(*) AS nota_1\n",
    "FROM gold_orders_analytics\n",
    "WHERE review_score = 1\n",
    "GROUP BY payment_type\n",
    "ORDER BY nota_1 DESC"
   ]
  },
  {
   "cell_type": "code",
   "execution_count": 0,
   "metadata": {
    "application/vnd.databricks.v1+cell": {
     "cellMetadata": {
      "byteLimit": 2048000,
      "implicitDf": true,
      "rowLimit": 10000
     },
     "inputWidgets": {},
     "nuid": "1e9e5432-883d-4db9-a71f-a28781455b15",
     "showTitle": false,
     "tableResultSettingsMap": {},
     "title": ""
    }
   },
   "outputs": [
    {
     "output_type": "display_data",
     "data": {
      "text/html": [
       "<style scoped>\n",
       "  .table-result-container {\n",
       "    max-height: 300px;\n",
       "    overflow: auto;\n",
       "  }\n",
       "  table, th, td {\n",
       "    border: 1px solid black;\n",
       "    border-collapse: collapse;\n",
       "  }\n",
       "  th, td {\n",
       "    padding: 5px;\n",
       "  }\n",
       "  th {\n",
       "    text-align: left;\n",
       "  }\n",
       "</style><div class='table-result-container'><table class='table-result'><thead style='background-color: white'><tr><th>payment_type</th><th>nota_5</th></tr></thead><tbody><tr><td>credit_card</td><td>48968</td></tr><tr><td>boleto</td><td>12773</td></tr><tr><td>voucher</td><td>3494</td></tr><tr><td>debit_card</td><td>1029</td></tr></tbody></table></div>"
      ]
     },
     "metadata": {
      "application/vnd.databricks.v1+output": {
       "addedWidgets": {},
       "aggData": [],
       "aggError": "",
       "aggOverflow": false,
       "aggSchema": [],
       "aggSeriesLimitReached": false,
       "aggType": "",
       "arguments": {},
       "columnCustomDisplayInfos": {},
       "data": [
        [
         "credit_card",
         48968
        ],
        [
         "boleto",
         12773
        ],
        [
         "voucher",
         3494
        ],
        [
         "debit_card",
         1029
        ]
       ],
       "datasetInfos": [],
       "dbfsResultPath": null,
       "isJsonSchema": true,
       "metadata": {},
       "overflow": false,
       "plotOptions": {
        "customPlotOptions": {},
        "displayType": "table",
        "pivotAggregation": null,
        "pivotColumns": null,
        "xColumns": null,
        "yColumns": null
       },
       "removedWidgets": [],
       "schema": [
        {
         "metadata": "{}",
         "name": "payment_type",
         "type": "\"string\""
        },
        {
         "metadata": "{}",
         "name": "nota_5",
         "type": "\"long\""
        }
       ],
       "type": "table"
      }
     },
     "output_type": "display_data"
    }
   ],
   "source": [
    "%sql\n",
    "-- Nota 5\n",
    "SELECT \n",
    "  payment_type, \n",
    "  COUNT(*) AS nota_5\n",
    "FROM gold_orders_analytics\n",
    "WHERE review_score = 5\n",
    "GROUP BY payment_type\n",
    "ORDER BY nota_5 DESC"
   ]
  },
  {
   "cell_type": "code",
   "execution_count": 0,
   "metadata": {
    "application/vnd.databricks.v1+cell": {
     "cellMetadata": {
      "byteLimit": 2048000,
      "implicitDf": true,
      "rowLimit": 10000
     },
     "inputWidgets": {},
     "nuid": "d1ba29d0-3105-458e-8834-aee3dc2d74a6",
     "showTitle": false,
     "tableResultSettingsMap": {},
     "title": ""
    }
   },
   "outputs": [
    {
     "output_type": "display_data",
     "data": {
      "text/html": [
       "<style scoped>\n",
       "  .table-result-container {\n",
       "    max-height: 300px;\n",
       "    overflow: auto;\n",
       "  }\n",
       "  table, th, td {\n",
       "    border: 1px solid black;\n",
       "    border-collapse: collapse;\n",
       "  }\n",
       "  th, td {\n",
       "    padding: 5px;\n",
       "  }\n",
       "  th {\n",
       "    text-align: left;\n",
       "  }\n",
       "</style><div class='table-result-container'><table class='table-result'><thead style='background-color: white'><tr><th>product_category_name_english</th><th>nota_1</th></tr></thead><tbody><tr><td>bed_bath_table</td><td>1724</td></tr><tr><td>furniture_decor</td><td>1303</td></tr><tr><td>computers_accessories</td><td>1199</td></tr><tr><td>health_beauty</td><td>1131</td></tr><tr><td>sports_leisure</td><td>1061</td></tr><tr><td>housewares</td><td>869</td></tr><tr><td>watches_gifts</td><td>780</td></tr><tr><td>garden_tools</td><td>602</td></tr><tr><td>telephony</td><td>600</td></tr><tr><td>auto</td><td>512</td></tr></tbody></table></div>"
      ]
     },
     "metadata": {
      "application/vnd.databricks.v1+output": {
       "addedWidgets": {},
       "aggData": [],
       "aggError": "",
       "aggOverflow": false,
       "aggSchema": [],
       "aggSeriesLimitReached": false,
       "aggType": "",
       "arguments": {},
       "columnCustomDisplayInfos": {},
       "data": [
        [
         "bed_bath_table",
         1724
        ],
        [
         "furniture_decor",
         1303
        ],
        [
         "computers_accessories",
         1199
        ],
        [
         "health_beauty",
         1131
        ],
        [
         "sports_leisure",
         1061
        ],
        [
         "housewares",
         869
        ],
        [
         "watches_gifts",
         780
        ],
        [
         "garden_tools",
         602
        ],
        [
         "telephony",
         600
        ],
        [
         "auto",
         512
        ]
       ],
       "datasetInfos": [],
       "dbfsResultPath": null,
       "isJsonSchema": true,
       "metadata": {},
       "overflow": false,
       "plotOptions": {
        "customPlotOptions": {},
        "displayType": "table",
        "pivotAggregation": null,
        "pivotColumns": null,
        "xColumns": null,
        "yColumns": null
       },
       "removedWidgets": [],
       "schema": [
        {
         "metadata": "{}",
         "name": "product_category_name_english",
         "type": "\"string\""
        },
        {
         "metadata": "{}",
         "name": "nota_1",
         "type": "\"long\""
        }
       ],
       "type": "table"
      }
     },
     "output_type": "display_data"
    }
   ],
   "source": [
    "%sql\n",
    "-- Perfil por categoria de produto\n",
    "-- Nota 1\n",
    "SELECT \n",
    "  product_category_name_english, \n",
    "  COUNT(*) AS nota_1\n",
    "FROM gold_orders_analytics\n",
    "WHERE review_score = 1\n",
    "GROUP BY product_category_name_english\n",
    "ORDER BY nota_1 DESC\n",
    "LIMIT 10"
   ]
  },
  {
   "cell_type": "code",
   "execution_count": 0,
   "metadata": {
    "application/vnd.databricks.v1+cell": {
     "cellMetadata": {
      "byteLimit": 2048000,
      "implicitDf": true,
      "rowLimit": 10000
     },
     "inputWidgets": {},
     "nuid": "fb4943a3-fa8f-43a4-84d6-7dee175bd493",
     "showTitle": false,
     "tableResultSettingsMap": {},
     "title": ""
    }
   },
   "outputs": [
    {
     "output_type": "display_data",
     "data": {
      "text/html": [
       "<style scoped>\n",
       "  .table-result-container {\n",
       "    max-height: 300px;\n",
       "    overflow: auto;\n",
       "  }\n",
       "  table, th, td {\n",
       "    border: 1px solid black;\n",
       "    border-collapse: collapse;\n",
       "  }\n",
       "  th, td {\n",
       "    padding: 5px;\n",
       "  }\n",
       "  th {\n",
       "    text-align: left;\n",
       "  }\n",
       "</style><div class='table-result-container'><table class='table-result'><thead style='background-color: white'><tr><th>product_category_name_english</th><th>nota_5</th></tr></thead><tbody><tr><td>bed_bath_table</td><td>6166</td></tr><tr><td>health_beauty</td><td>6024</td></tr><tr><td>sports_leisure</td><td>5284</td></tr><tr><td>furniture_decor</td><td>4698</td></tr><tr><td>computers_accessories</td><td>4347</td></tr><tr><td>housewares</td><td>4203</td></tr><tr><td>watches_gifts</td><td>3450</td></tr><tr><td>toys</td><td>2622</td></tr><tr><td>garden_tools</td><td>2567</td></tr><tr><td>auto</td><td>2454</td></tr></tbody></table></div>"
      ]
     },
     "metadata": {
      "application/vnd.databricks.v1+output": {
       "addedWidgets": {},
       "aggData": [],
       "aggError": "",
       "aggOverflow": false,
       "aggSchema": [],
       "aggSeriesLimitReached": false,
       "aggType": "",
       "arguments": {},
       "columnCustomDisplayInfos": {},
       "data": [
        [
         "bed_bath_table",
         6166
        ],
        [
         "health_beauty",
         6024
        ],
        [
         "sports_leisure",
         5284
        ],
        [
         "furniture_decor",
         4698
        ],
        [
         "computers_accessories",
         4347
        ],
        [
         "housewares",
         4203
        ],
        [
         "watches_gifts",
         3450
        ],
        [
         "toys",
         2622
        ],
        [
         "garden_tools",
         2567
        ],
        [
         "auto",
         2454
        ]
       ],
       "datasetInfos": [],
       "dbfsResultPath": null,
       "isJsonSchema": true,
       "metadata": {},
       "overflow": false,
       "plotOptions": {
        "customPlotOptions": {},
        "displayType": "table",
        "pivotAggregation": null,
        "pivotColumns": null,
        "xColumns": null,
        "yColumns": null
       },
       "removedWidgets": [],
       "schema": [
        {
         "metadata": "{}",
         "name": "product_category_name_english",
         "type": "\"string\""
        },
        {
         "metadata": "{}",
         "name": "nota_5",
         "type": "\"long\""
        }
       ],
       "type": "table"
      }
     },
     "output_type": "display_data"
    }
   ],
   "source": [
    "%sql\n",
    "-- Nota 5\n",
    "SELECT \n",
    "  product_category_name_english, \n",
    "  COUNT(*) AS nota_5\n",
    "FROM gold_orders_analytics\n",
    "WHERE review_score = 5\n",
    "GROUP BY product_category_name_english\n",
    "ORDER BY nota_5 DESC\n",
    "LIMIT 10"
   ]
  },
  {
   "cell_type": "code",
   "execution_count": 0,
   "metadata": {
    "application/vnd.databricks.v1+cell": {
     "cellMetadata": {
      "byteLimit": 2048000,
      "implicitDf": true,
      "rowLimit": 10000
     },
     "inputWidgets": {},
     "nuid": "ebf988d9-e508-4ace-9273-e32353059d98",
     "showTitle": false,
     "tableResultSettingsMap": {},
     "title": ""
    }
   },
   "outputs": [
    {
     "output_type": "display_data",
     "data": {
      "text/html": [
       "<style scoped>\n",
       "  .table-result-container {\n",
       "    max-height: 300px;\n",
       "    overflow: auto;\n",
       "  }\n",
       "  table, th, td {\n",
       "    border: 1px solid black;\n",
       "    border-collapse: collapse;\n",
       "  }\n",
       "  th, td {\n",
       "    padding: 5px;\n",
       "  }\n",
       "  th {\n",
       "    text-align: left;\n",
       "  }\n",
       "</style><div class='table-result-container'><table class='table-result'><thead style='background-color: white'><tr><th>customer_state</th><th>nota_1</th></tr></thead><tbody><tr><td>SP</td><td>5268</td></tr><tr><td>RJ</td><td>2802</td></tr><tr><td>MG</td><td>1557</td></tr><tr><td>RS</td><td>816</td></tr><tr><td>PR</td><td>658</td></tr><tr><td>BA</td><td>626</td></tr><tr><td>SC</td><td>556</td></tr><tr><td>DF</td><td>332</td></tr><tr><td>ES</td><td>312</td></tr><tr><td>GO</td><td>303</td></tr><tr><td>PE</td><td>272</td></tr><tr><td>CE</td><td>254</td></tr><tr><td>PA</td><td>186</td></tr><tr><td>MT</td><td>165</td></tr><tr><td>MA</td><td>165</td></tr><tr><td>MS</td><td>100</td></tr><tr><td>PI</td><td>90</td></tr><tr><td>AL</td><td>85</td></tr><tr><td>PB</td><td>79</td></tr><tr><td>SE</td><td>70</td></tr><tr><td>RN</td><td>69</td></tr><tr><td>TO</td><td>28</td></tr><tr><td>RO</td><td>26</td></tr><tr><td>AM</td><td>16</td></tr><tr><td>RR</td><td>11</td></tr><tr><td>AC</td><td>7</td></tr><tr><td>AP</td><td>4</td></tr></tbody></table></div>"
      ]
     },
     "metadata": {
      "application/vnd.databricks.v1+output": {
       "addedWidgets": {},
       "aggData": [],
       "aggError": "",
       "aggOverflow": false,
       "aggSchema": [],
       "aggSeriesLimitReached": false,
       "aggType": "",
       "arguments": {},
       "columnCustomDisplayInfos": {},
       "data": [
        [
         "SP",
         5268
        ],
        [
         "RJ",
         2802
        ],
        [
         "MG",
         1557
        ],
        [
         "RS",
         816
        ],
        [
         "PR",
         658
        ],
        [
         "BA",
         626
        ],
        [
         "SC",
         556
        ],
        [
         "DF",
         332
        ],
        [
         "ES",
         312
        ],
        [
         "GO",
         303
        ],
        [
         "PE",
         272
        ],
        [
         "CE",
         254
        ],
        [
         "PA",
         186
        ],
        [
         "MT",
         165
        ],
        [
         "MA",
         165
        ],
        [
         "MS",
         100
        ],
        [
         "PI",
         90
        ],
        [
         "AL",
         85
        ],
        [
         "PB",
         79
        ],
        [
         "SE",
         70
        ],
        [
         "RN",
         69
        ],
        [
         "TO",
         28
        ],
        [
         "RO",
         26
        ],
        [
         "AM",
         16
        ],
        [
         "RR",
         11
        ],
        [
         "AC",
         7
        ],
        [
         "AP",
         4
        ]
       ],
       "datasetInfos": [],
       "dbfsResultPath": null,
       "isJsonSchema": true,
       "metadata": {},
       "overflow": false,
       "plotOptions": {
        "customPlotOptions": {},
        "displayType": "table",
        "pivotAggregation": null,
        "pivotColumns": null,
        "xColumns": null,
        "yColumns": null
       },
       "removedWidgets": [],
       "schema": [
        {
         "metadata": "{}",
         "name": "customer_state",
         "type": "\"string\""
        },
        {
         "metadata": "{}",
         "name": "nota_1",
         "type": "\"long\""
        }
       ],
       "type": "table"
      }
     },
     "output_type": "display_data"
    }
   ],
   "source": [
    "%sql\n",
    "-- Perfil por estado do cliente\n",
    "-- Nota 1\n",
    "SELECT \n",
    "  customer_state, \n",
    "  COUNT(*) AS nota_1\n",
    "FROM gold_orders_analytics\n",
    "WHERE review_score = 1\n",
    "GROUP BY customer_state\n",
    "ORDER BY nota_1 DESC"
   ]
  },
  {
   "cell_type": "code",
   "execution_count": 0,
   "metadata": {
    "application/vnd.databricks.v1+cell": {
     "cellMetadata": {
      "byteLimit": 2048000,
      "implicitDf": true,
      "rowLimit": 10000
     },
     "inputWidgets": {},
     "nuid": "435f1087-a510-4b24-afc0-1913de748637",
     "showTitle": false,
     "tableResultSettingsMap": {},
     "title": ""
    }
   },
   "outputs": [
    {
     "output_type": "display_data",
     "data": {
      "text/html": [
       "<style scoped>\n",
       "  .table-result-container {\n",
       "    max-height: 300px;\n",
       "    overflow: auto;\n",
       "  }\n",
       "  table, th, td {\n",
       "    border: 1px solid black;\n",
       "    border-collapse: collapse;\n",
       "  }\n",
       "  th, td {\n",
       "    padding: 5px;\n",
       "  }\n",
       "  th {\n",
       "    text-align: left;\n",
       "  }\n",
       "</style><div class='table-result-container'><table class='table-result'><thead style='background-color: white'><tr><th>customer_state</th><th>nota_5</th></tr></thead><tbody><tr><td>SP</td><td>29267</td></tr><tr><td>RJ</td><td>8040</td></tr><tr><td>MG</td><td>7867</td></tr><tr><td>RS</td><td>3650</td></tr><tr><td>PR</td><td>3484</td></tr><tr><td>SC</td><td>2372</td></tr><tr><td>BA</td><td>1932</td></tr><tr><td>DF</td><td>1370</td></tr><tr><td>GO</td><td>1290</td></tr><tr><td>ES</td><td>1248</td></tr><tr><td>PE</td><td>1025</td></tr><tr><td>CE</td><td>768</td></tr><tr><td>MT</td><td>577</td></tr><tr><td>PA</td><td>532</td></tr><tr><td>MS</td><td>500</td></tr><tr><td>MA</td><td>389</td></tr><tr><td>PB</td><td>353</td></tr><tr><td>RN</td><td>326</td></tr><tr><td>PI</td><td>281</td></tr><tr><td>AL</td><td>216</td></tr><tr><td>SE</td><td>205</td></tr><tr><td>TO</td><td>192</td></tr><tr><td>RO</td><td>159</td></tr><tr><td>AM</td><td>99</td></tr><tr><td>AC</td><td>55</td></tr><tr><td>AP</td><td>44</td></tr><tr><td>RR</td><td>23</td></tr></tbody></table></div>"
      ]
     },
     "metadata": {
      "application/vnd.databricks.v1+output": {
       "addedWidgets": {},
       "aggData": [],
       "aggError": "",
       "aggOverflow": false,
       "aggSchema": [],
       "aggSeriesLimitReached": false,
       "aggType": "",
       "arguments": {},
       "columnCustomDisplayInfos": {},
       "data": [
        [
         "SP",
         29267
        ],
        [
         "RJ",
         8040
        ],
        [
         "MG",
         7867
        ],
        [
         "RS",
         3650
        ],
        [
         "PR",
         3484
        ],
        [
         "SC",
         2372
        ],
        [
         "BA",
         1932
        ],
        [
         "DF",
         1370
        ],
        [
         "GO",
         1290
        ],
        [
         "ES",
         1248
        ],
        [
         "PE",
         1025
        ],
        [
         "CE",
         768
        ],
        [
         "MT",
         577
        ],
        [
         "PA",
         532
        ],
        [
         "MS",
         500
        ],
        [
         "MA",
         389
        ],
        [
         "PB",
         353
        ],
        [
         "RN",
         326
        ],
        [
         "PI",
         281
        ],
        [
         "AL",
         216
        ],
        [
         "SE",
         205
        ],
        [
         "TO",
         192
        ],
        [
         "RO",
         159
        ],
        [
         "AM",
         99
        ],
        [
         "AC",
         55
        ],
        [
         "AP",
         44
        ],
        [
         "RR",
         23
        ]
       ],
       "datasetInfos": [],
       "dbfsResultPath": null,
       "isJsonSchema": true,
       "metadata": {},
       "overflow": false,
       "plotOptions": {
        "customPlotOptions": {},
        "displayType": "table",
        "pivotAggregation": null,
        "pivotColumns": null,
        "xColumns": null,
        "yColumns": null
       },
       "removedWidgets": [],
       "schema": [
        {
         "metadata": "{}",
         "name": "customer_state",
         "type": "\"string\""
        },
        {
         "metadata": "{}",
         "name": "nota_5",
         "type": "\"long\""
        }
       ],
       "type": "table"
      }
     },
     "output_type": "display_data"
    }
   ],
   "source": [
    "%sql\n",
    "-- Nota 5 \n",
    "SELECT \n",
    "  customer_state, \n",
    "  COUNT(*) AS nota_5\n",
    "FROM gold_orders_analytics\n",
    "WHERE review_score = 5\n",
    "GROUP BY customer_state\n",
    "ORDER BY nota_5 DESC"
   ]
  },
  {
   "cell_type": "markdown",
   "metadata": {
    "application/vnd.databricks.v1+cell": {
     "cellMetadata": {
      "byteLimit": 2048000,
      "rowLimit": 10000
     },
     "inputWidgets": {},
     "nuid": "e7805ae2-9ca0-445c-81fd-61a07fb8ab53",
     "showTitle": false,
     "tableResultSettingsMap": {},
     "title": ""
    }
   },
   "source": [
    "## Pergunta 2\n",
    "O tempo de entrega impacta na nota da avaliação?\n"
   ]
  },
  {
   "cell_type": "code",
   "execution_count": 0,
   "metadata": {
    "application/vnd.databricks.v1+cell": {
     "cellMetadata": {
      "byteLimit": 2048000,
      "implicitDf": true,
      "rowLimit": 10000
     },
     "inputWidgets": {},
     "nuid": "708576aa-6c43-459d-a421-d81ec4fe7366",
     "showTitle": false,
     "tableResultSettingsMap": {},
     "title": ""
    }
   },
   "outputs": [
    {
     "output_type": "display_data",
     "data": {
      "text/html": [
       "<style scoped>\n",
       "  .table-result-container {\n",
       "    max-height: 300px;\n",
       "    overflow: auto;\n",
       "  }\n",
       "  table, th, td {\n",
       "    border: 1px solid black;\n",
       "    border-collapse: collapse;\n",
       "  }\n",
       "  th, td {\n",
       "    padding: 5px;\n",
       "  }\n",
       "  th {\n",
       "    text-align: left;\n",
       "  }\n",
       "</style><div class='table-result-container'><table class='table-result'><thead style='background-color: white'><tr><th>delivery_days</th><th>avg_review_score</th><th>total_orders</th></tr></thead><tbody><tr><td>0</td><td>5.0</td><td>1</td></tr><tr><td>1</td><td>4.41</td><td>765</td></tr><tr><td>2</td><td>4.43</td><td>3467</td></tr><tr><td>3</td><td>4.36</td><td>4157</td></tr><tr><td>4</td><td>4.38</td><td>5385</td></tr><tr><td>5</td><td>4.3</td><td>6280</td></tr><tr><td>6</td><td>4.3</td><td>7924</td></tr><tr><td>7</td><td>4.3</td><td>8914</td></tr><tr><td>8</td><td>4.27</td><td>8587</td></tr><tr><td>9</td><td>4.24</td><td>7463</td></tr><tr><td>10</td><td>4.19</td><td>7022</td></tr><tr><td>11</td><td>4.2</td><td>6426</td></tr><tr><td>12</td><td>4.19</td><td>5934</td></tr><tr><td>13</td><td>4.2</td><td>5447</td></tr><tr><td>14</td><td>4.15</td><td>4941</td></tr><tr><td>15</td><td>4.1</td><td>3995</td></tr><tr><td>16</td><td>4.1</td><td>3400</td></tr><tr><td>17</td><td>4.03</td><td>2935</td></tr><tr><td>18</td><td>3.97</td><td>2731</td></tr><tr><td>19</td><td>4.03</td><td>2319</td></tr><tr><td>20</td><td>3.92</td><td>2193</td></tr><tr><td>21</td><td>3.93</td><td>1769</td></tr><tr><td>22</td><td>3.79</td><td>1679</td></tr><tr><td>23</td><td>3.66</td><td>1323</td></tr><tr><td>24</td><td>3.65</td><td>1180</td></tr><tr><td>25</td><td>3.52</td><td>1062</td></tr><tr><td>26</td><td>3.42</td><td>825</td></tr><tr><td>27</td><td>3.41</td><td>787</td></tr><tr><td>28</td><td>3.12</td><td>713</td></tr><tr><td>29</td><td>3.02</td><td>613</td></tr><tr><td>30</td><td>3.03</td><td>494</td></tr><tr><td>31</td><td>2.74</td><td>455</td></tr><tr><td>32</td><td>2.67</td><td>420</td></tr><tr><td>33</td><td>2.66</td><td>353</td></tr><tr><td>34</td><td>2.57</td><td>364</td></tr><tr><td>35</td><td>2.37</td><td>337</td></tr><tr><td>36</td><td>2.26</td><td>296</td></tr><tr><td>37</td><td>2.08</td><td>234</td></tr><tr><td>38</td><td>1.92</td><td>181</td></tr><tr><td>39</td><td>2.09</td><td>210</td></tr><tr><td>40</td><td>2.02</td><td>155</td></tr><tr><td>41</td><td>2.02</td><td>195</td></tr><tr><td>42</td><td>2.03</td><td>158</td></tr><tr><td>43</td><td>1.86</td><td>154</td></tr><tr><td>44</td><td>1.82</td><td>149</td></tr><tr><td>45</td><td>1.79</td><td>133</td></tr><tr><td>46</td><td>1.63</td><td>129</td></tr><tr><td>47</td><td>1.49</td><td>97</td></tr><tr><td>48</td><td>1.71</td><td>82</td></tr><tr><td>49</td><td>1.48</td><td>67</td></tr><tr><td>50</td><td>1.77</td><td>76</td></tr><tr><td>51</td><td>1.48</td><td>69</td></tr><tr><td>52</td><td>2.26</td><td>63</td></tr><tr><td>53</td><td>1.46</td><td>46</td></tr><tr><td>54</td><td>1.86</td><td>44</td></tr><tr><td>55</td><td>1.29</td><td>32</td></tr><tr><td>56</td><td>1.74</td><td>43</td></tr><tr><td>57</td><td>1.45</td><td>31</td></tr><tr><td>58</td><td>1.68</td><td>28</td></tr><tr><td>59</td><td>1.73</td><td>27</td></tr><tr><td>60</td><td>1.4</td><td>25</td></tr><tr><td>61</td><td>1.84</td><td>20</td></tr><tr><td>62</td><td>1.77</td><td>13</td></tr><tr><td>63</td><td>2.38</td><td>14</td></tr><tr><td>64</td><td>2.0</td><td>13</td></tr><tr><td>65</td><td>1.5</td><td>10</td></tr><tr><td>66</td><td>2.48</td><td>21</td></tr><tr><td>67</td><td>1.56</td><td>9</td></tr><tr><td>68</td><td>2.53</td><td>20</td></tr><tr><td>69</td><td>1.62</td><td>13</td></tr><tr><td>70</td><td>1.76</td><td>17</td></tr><tr><td>71</td><td>2.15</td><td>13</td></tr><tr><td>72</td><td>2.4</td><td>12</td></tr><tr><td>73</td><td>1.33</td><td>4</td></tr><tr><td>74</td><td>2.25</td><td>5</td></tr><tr><td>75</td><td>1.91</td><td>11</td></tr><tr><td>76</td><td>2.29</td><td>7</td></tr><tr><td>77</td><td>1.0</td><td>2</td></tr><tr><td>78</td><td>1.0</td><td>6</td></tr><tr><td>79</td><td>3.0</td><td>3</td></tr><tr><td>80</td><td>1.0</td><td>5</td></tr><tr><td>81</td><td>2.33</td><td>6</td></tr><tr><td>82</td><td>3.0</td><td>4</td></tr><tr><td>83</td><td>2.33</td><td>3</td></tr><tr><td>84</td><td>1.75</td><td>4</td></tr><tr><td>85</td><td>1.0</td><td>7</td></tr><tr><td>86</td><td>2.5</td><td>6</td></tr><tr><td>87</td><td>1.0</td><td>1</td></tr><tr><td>88</td><td>2.5</td><td>2</td></tr><tr><td>90</td><td>1.0</td><td>1</td></tr><tr><td>91</td><td>1.5</td><td>2</td></tr><tr><td>93</td><td>4.0</td><td>2</td></tr><tr><td>94</td><td>1.0</td><td>2</td></tr><tr><td>96</td><td>2.5</td><td>2</td></tr><tr><td>97</td><td>1.0</td><td>1</td></tr><tr><td>98</td><td>3.0</td><td>2</td></tr><tr><td>100</td><td>4.33</td><td>3</td></tr><tr><td>101</td><td>3.0</td><td>2</td></tr><tr><td>102</td><td>null</td><td>1</td></tr><tr><td>103</td><td>1.0</td><td>1</td></tr><tr><td>104</td><td>1.0</td><td>2</td></tr><tr><td>105</td><td>3.67</td><td>3</td></tr><tr><td>106</td><td>2.5</td><td>2</td></tr><tr><td>107</td><td>2.5</td><td>2</td></tr><tr><td>108</td><td>3.0</td><td>3</td></tr><tr><td>110</td><td>1.0</td><td>2</td></tr><tr><td>115</td><td>5.0</td><td>1</td></tr><tr><td>117</td><td>1.0</td><td>1</td></tr><tr><td>119</td><td>4.0</td><td>1</td></tr><tr><td>125</td><td>1.0</td><td>2</td></tr><tr><td>126</td><td>1.0</td><td>1</td></tr><tr><td>127</td><td>4.0</td><td>1</td></tr><tr><td>130</td><td>5.0</td><td>1</td></tr><tr><td>131</td><td>3.0</td><td>2</td></tr><tr><td>132</td><td>1.0</td><td>1</td></tr><tr><td>133</td><td>2.0</td><td>1</td></tr><tr><td>135</td><td>5.0</td><td>1</td></tr><tr><td>137</td><td>4.0</td><td>1</td></tr><tr><td>138</td><td>5.0</td><td>1</td></tr><tr><td>139</td><td>1.0</td><td>1</td></tr><tr><td>142</td><td>3.0</td><td>2</td></tr><tr><td>143</td><td>5.0</td><td>1</td></tr><tr><td>144</td><td>2.0</td><td>2</td></tr><tr><td>145</td><td>4.0</td><td>2</td></tr><tr><td>146</td><td>null</td><td>1</td></tr><tr><td>148</td><td>4.0</td><td>1</td></tr><tr><td>166</td><td>1.0</td><td>2</td></tr><tr><td>168</td><td>3.5</td><td>4</td></tr><tr><td>172</td><td>5.0</td><td>1</td></tr><tr><td>173</td><td>4.0</td><td>1</td></tr><tr><td>174</td><td>3.0</td><td>1</td></tr><tr><td>175</td><td>4.0</td><td>4</td></tr><tr><td>181</td><td>1.0</td><td>1</td></tr><tr><td>183</td><td>5.0</td><td>2</td></tr><tr><td>186</td><td>4.0</td><td>1</td></tr><tr><td>187</td><td>5.0</td><td>2</td></tr><tr><td>188</td><td>3.0</td><td>2</td></tr><tr><td>190</td><td>1.0</td><td>1</td></tr><tr><td>191</td><td>1.0</td><td>1</td></tr><tr><td>194</td><td>4.0</td><td>1</td></tr><tr><td>195</td><td>2.5</td><td>2</td></tr><tr><td>196</td><td>1.0</td><td>1</td></tr><tr><td>208</td><td>2.0</td><td>1</td></tr><tr><td>210</td><td>null</td><td>1</td></tr></tbody></table></div>"
      ]
     },
     "metadata": {
      "application/vnd.databricks.v1+output": {
       "addedWidgets": {},
       "aggData": [],
       "aggError": "",
       "aggOverflow": false,
       "aggSchema": [],
       "aggSeriesLimitReached": false,
       "aggType": "",
       "arguments": {},
       "columnCustomDisplayInfos": {},
       "data": [
        [
         0,
         5.0,
         1
        ],
        [
         1,
         4.41,
         765
        ],
        [
         2,
         4.43,
         3467
        ],
        [
         3,
         4.36,
         4157
        ],
        [
         4,
         4.38,
         5385
        ],
        [
         5,
         4.3,
         6280
        ],
        [
         6,
         4.3,
         7924
        ],
        [
         7,
         4.3,
         8914
        ],
        [
         8,
         4.27,
         8587
        ],
        [
         9,
         4.24,
         7463
        ],
        [
         10,
         4.19,
         7022
        ],
        [
         11,
         4.2,
         6426
        ],
        [
         12,
         4.19,
         5934
        ],
        [
         13,
         4.2,
         5447
        ],
        [
         14,
         4.15,
         4941
        ],
        [
         15,
         4.1,
         3995
        ],
        [
         16,
         4.1,
         3400
        ],
        [
         17,
         4.03,
         2935
        ],
        [
         18,
         3.97,
         2731
        ],
        [
         19,
         4.03,
         2319
        ],
        [
         20,
         3.92,
         2193
        ],
        [
         21,
         3.93,
         1769
        ],
        [
         22,
         3.79,
         1679
        ],
        [
         23,
         3.66,
         1323
        ],
        [
         24,
         3.65,
         1180
        ],
        [
         25,
         3.52,
         1062
        ],
        [
         26,
         3.42,
         825
        ],
        [
         27,
         3.41,
         787
        ],
        [
         28,
         3.12,
         713
        ],
        [
         29,
         3.02,
         613
        ],
        [
         30,
         3.03,
         494
        ],
        [
         31,
         2.74,
         455
        ],
        [
         32,
         2.67,
         420
        ],
        [
         33,
         2.66,
         353
        ],
        [
         34,
         2.57,
         364
        ],
        [
         35,
         2.37,
         337
        ],
        [
         36,
         2.26,
         296
        ],
        [
         37,
         2.08,
         234
        ],
        [
         38,
         1.92,
         181
        ],
        [
         39,
         2.09,
         210
        ],
        [
         40,
         2.02,
         155
        ],
        [
         41,
         2.02,
         195
        ],
        [
         42,
         2.03,
         158
        ],
        [
         43,
         1.86,
         154
        ],
        [
         44,
         1.82,
         149
        ],
        [
         45,
         1.79,
         133
        ],
        [
         46,
         1.63,
         129
        ],
        [
         47,
         1.49,
         97
        ],
        [
         48,
         1.71,
         82
        ],
        [
         49,
         1.48,
         67
        ],
        [
         50,
         1.77,
         76
        ],
        [
         51,
         1.48,
         69
        ],
        [
         52,
         2.26,
         63
        ],
        [
         53,
         1.46,
         46
        ],
        [
         54,
         1.86,
         44
        ],
        [
         55,
         1.29,
         32
        ],
        [
         56,
         1.74,
         43
        ],
        [
         57,
         1.45,
         31
        ],
        [
         58,
         1.68,
         28
        ],
        [
         59,
         1.73,
         27
        ],
        [
         60,
         1.4,
         25
        ],
        [
         61,
         1.84,
         20
        ],
        [
         62,
         1.77,
         13
        ],
        [
         63,
         2.38,
         14
        ],
        [
         64,
         2.0,
         13
        ],
        [
         65,
         1.5,
         10
        ],
        [
         66,
         2.48,
         21
        ],
        [
         67,
         1.56,
         9
        ],
        [
         68,
         2.53,
         20
        ],
        [
         69,
         1.62,
         13
        ],
        [
         70,
         1.76,
         17
        ],
        [
         71,
         2.15,
         13
        ],
        [
         72,
         2.4,
         12
        ],
        [
         73,
         1.33,
         4
        ],
        [
         74,
         2.25,
         5
        ],
        [
         75,
         1.91,
         11
        ],
        [
         76,
         2.29,
         7
        ],
        [
         77,
         1.0,
         2
        ],
        [
         78,
         1.0,
         6
        ],
        [
         79,
         3.0,
         3
        ],
        [
         80,
         1.0,
         5
        ],
        [
         81,
         2.33,
         6
        ],
        [
         82,
         3.0,
         4
        ],
        [
         83,
         2.33,
         3
        ],
        [
         84,
         1.75,
         4
        ],
        [
         85,
         1.0,
         7
        ],
        [
         86,
         2.5,
         6
        ],
        [
         87,
         1.0,
         1
        ],
        [
         88,
         2.5,
         2
        ],
        [
         90,
         1.0,
         1
        ],
        [
         91,
         1.5,
         2
        ],
        [
         93,
         4.0,
         2
        ],
        [
         94,
         1.0,
         2
        ],
        [
         96,
         2.5,
         2
        ],
        [
         97,
         1.0,
         1
        ],
        [
         98,
         3.0,
         2
        ],
        [
         100,
         4.33,
         3
        ],
        [
         101,
         3.0,
         2
        ],
        [
         102,
         null,
         1
        ],
        [
         103,
         1.0,
         1
        ],
        [
         104,
         1.0,
         2
        ],
        [
         105,
         3.67,
         3
        ],
        [
         106,
         2.5,
         2
        ],
        [
         107,
         2.5,
         2
        ],
        [
         108,
         3.0,
         3
        ],
        [
         110,
         1.0,
         2
        ],
        [
         115,
         5.0,
         1
        ],
        [
         117,
         1.0,
         1
        ],
        [
         119,
         4.0,
         1
        ],
        [
         125,
         1.0,
         2
        ],
        [
         126,
         1.0,
         1
        ],
        [
         127,
         4.0,
         1
        ],
        [
         130,
         5.0,
         1
        ],
        [
         131,
         3.0,
         2
        ],
        [
         132,
         1.0,
         1
        ],
        [
         133,
         2.0,
         1
        ],
        [
         135,
         5.0,
         1
        ],
        [
         137,
         4.0,
         1
        ],
        [
         138,
         5.0,
         1
        ],
        [
         139,
         1.0,
         1
        ],
        [
         142,
         3.0,
         2
        ],
        [
         143,
         5.0,
         1
        ],
        [
         144,
         2.0,
         2
        ],
        [
         145,
         4.0,
         2
        ],
        [
         146,
         null,
         1
        ],
        [
         148,
         4.0,
         1
        ],
        [
         166,
         1.0,
         2
        ],
        [
         168,
         3.5,
         4
        ],
        [
         172,
         5.0,
         1
        ],
        [
         173,
         4.0,
         1
        ],
        [
         174,
         3.0,
         1
        ],
        [
         175,
         4.0,
         4
        ],
        [
         181,
         1.0,
         1
        ],
        [
         183,
         5.0,
         2
        ],
        [
         186,
         4.0,
         1
        ],
        [
         187,
         5.0,
         2
        ],
        [
         188,
         3.0,
         2
        ],
        [
         190,
         1.0,
         1
        ],
        [
         191,
         1.0,
         1
        ],
        [
         194,
         4.0,
         1
        ],
        [
         195,
         2.5,
         2
        ],
        [
         196,
         1.0,
         1
        ],
        [
         208,
         2.0,
         1
        ],
        [
         210,
         null,
         1
        ]
       ],
       "datasetInfos": [],
       "dbfsResultPath": null,
       "isJsonSchema": true,
       "metadata": {},
       "overflow": false,
       "plotOptions": {
        "customPlotOptions": {},
        "displayType": "table",
        "pivotAggregation": null,
        "pivotColumns": null,
        "xColumns": null,
        "yColumns": null
       },
       "removedWidgets": [],
       "schema": [
        {
         "metadata": "{}",
         "name": "delivery_days",
         "type": "\"integer\""
        },
        {
         "metadata": "{}",
         "name": "avg_review_score",
         "type": "\"double\""
        },
        {
         "metadata": "{}",
         "name": "total_orders",
         "type": "\"long\""
        }
       ],
       "type": "table"
      }
     },
     "output_type": "display_data"
    }
   ],
   "source": [
    "%sql\n",
    "-- Nota média por tempo de entrega (em dias)\n",
    "SELECT \n",
    "  delivery_days, \n",
    "  ROUND(AVG(review_score), 2) AS avg_review_score,\n",
    "  COUNT(*) AS total_orders\n",
    "FROM gold_orders_analytics\n",
    "WHERE delivery_days IS NOT NULL\n",
    "GROUP BY delivery_days\n",
    "ORDER BY delivery_days\n"
   ]
  },
  {
   "cell_type": "code",
   "execution_count": 0,
   "metadata": {
    "application/vnd.databricks.v1+cell": {
     "cellMetadata": {
      "byteLimit": 2048000,
      "rowLimit": 10000
     },
     "inputWidgets": {},
     "nuid": "faa577ff-5157-4dfa-98ff-ff07ea87ff6a",
     "showTitle": false,
     "tableResultSettingsMap": {},
     "title": ""
    }
   },
   "outputs": [],
   "source": [
    "# Como o SQL puro não permite criar colunas condicionais com facilidade, fazemos a categorização no PySpark e depois salvamos uma nova tabela Gold, com a coluna entrega_categoria:\n",
    "\n",
    "from pyspark.sql.functions import when, col\n",
    "\n",
    "df_gold = spark.table(\"gold_orders_analytics\")\n",
    "\n",
    "df_gold = df_gold.withColumn(\"entrega_categoria\", \n",
    "    when(col(\"delivery_days\") <= 5, \"Rápida (0-5)\")\n",
    "   .when(col(\"delivery_days\") <= 10, \"Média (6-10)\")\n",
    "   .when(col(\"delivery_days\") <= 20, \"Lenta (11-20)\")\n",
    "   .otherwise(\"Muito lenta (>20)\")\n",
    ")\n",
    "\n",
    "df_gold.write.format(\"delta\").mode(\"overwrite\").saveAsTable(\"gold_orders_entrega_categoria\")\n"
   ]
  },
  {
   "cell_type": "code",
   "execution_count": 0,
   "metadata": {
    "application/vnd.databricks.v1+cell": {
     "cellMetadata": {
      "byteLimit": 2048000,
      "implicitDf": true,
      "rowLimit": 10000
     },
     "inputWidgets": {},
     "nuid": "bbbdb04c-19b5-4e74-bcc3-d7fc0299c478",
     "showTitle": false,
     "tableResultSettingsMap": {},
     "title": ""
    }
   },
   "outputs": [
    {
     "output_type": "display_data",
     "data": {
      "text/html": [
       "<style scoped>\n",
       "  .table-result-container {\n",
       "    max-height: 300px;\n",
       "    overflow: auto;\n",
       "  }\n",
       "  table, th, td {\n",
       "    border: 1px solid black;\n",
       "    border-collapse: collapse;\n",
       "  }\n",
       "  th, td {\n",
       "    padding: 5px;\n",
       "  }\n",
       "  th {\n",
       "    text-align: left;\n",
       "  }\n",
       "</style><div class='table-result-container'><table class='table-result'><thead style='background-color: white'><tr><th>entrega_categoria</th><th>avg_review_score</th><th>total_orders</th></tr></thead><tbody><tr><td>Lenta (11-20)</td><td>4.12</td><td>40321</td></tr><tr><td>Muito lenta (>20)</td><td>2.94</td><td>18024</td></tr><tr><td>Média (6-10)</td><td>4.26</td><td>39910</td></tr><tr><td>Rápida (0-5)</td><td>4.36</td><td>20055</td></tr></tbody></table></div>"
      ]
     },
     "metadata": {
      "application/vnd.databricks.v1+output": {
       "addedWidgets": {},
       "aggData": [],
       "aggError": "",
       "aggOverflow": false,
       "aggSchema": [],
       "aggSeriesLimitReached": false,
       "aggType": "",
       "arguments": {},
       "columnCustomDisplayInfos": {},
       "data": [
        [
         "Lenta (11-20)",
         4.12,
         40321
        ],
        [
         "Muito lenta (>20)",
         2.94,
         18024
        ],
        [
         "Média (6-10)",
         4.26,
         39910
        ],
        [
         "Rápida (0-5)",
         4.36,
         20055
        ]
       ],
       "datasetInfos": [],
       "dbfsResultPath": null,
       "isJsonSchema": true,
       "metadata": {},
       "overflow": false,
       "plotOptions": {
        "customPlotOptions": {},
        "displayType": "table",
        "pivotAggregation": null,
        "pivotColumns": null,
        "xColumns": null,
        "yColumns": null
       },
       "removedWidgets": [],
       "schema": [
        {
         "metadata": "{}",
         "name": "entrega_categoria",
         "type": "\"string\""
        },
        {
         "metadata": "{}",
         "name": "avg_review_score",
         "type": "\"double\""
        },
        {
         "metadata": "{}",
         "name": "total_orders",
         "type": "\"long\""
        }
       ],
       "type": "table"
      }
     },
     "output_type": "display_data"
    }
   ],
   "source": [
    "%sql\n",
    "-- Nota média por faixa de entrega\n",
    "SELECT \n",
    "  entrega_categoria, \n",
    "  ROUND(AVG(review_score), 2) AS avg_review_score,\n",
    "  COUNT(*) AS total_orders\n",
    "FROM gold_orders_entrega_categoria\n",
    "GROUP BY entrega_categoria\n",
    "ORDER BY entrega_categoria\n",
    "\n"
   ]
  },
  {
   "cell_type": "markdown",
   "metadata": {
    "application/vnd.databricks.v1+cell": {
     "cellMetadata": {
      "byteLimit": 2048000,
      "rowLimit": 10000
     },
     "inputWidgets": {},
     "nuid": "f7e576e6-f18e-4a92-9637-2c3ea20daafb",
     "showTitle": false,
     "tableResultSettingsMap": {},
     "title": ""
    }
   },
   "source": [
    "##Pergunta 3\n",
    "Há categorias de produtos com maiores taxas de insatisfação?"
   ]
  },
  {
   "cell_type": "code",
   "execution_count": 0,
   "metadata": {
    "application/vnd.databricks.v1+cell": {
     "cellMetadata": {
      "byteLimit": 2048000,
      "implicitDf": true,
      "rowLimit": 10000
     },
     "inputWidgets": {},
     "nuid": "d43e3833-6ad7-4d79-b63b-e2c879ce4d1c",
     "showTitle": false,
     "tableResultSettingsMap": {},
     "title": ""
    }
   },
   "outputs": [
    {
     "output_type": "display_data",
     "data": {
      "text/html": [
       "<style scoped>\n",
       "  .table-result-container {\n",
       "    max-height: 300px;\n",
       "    overflow: auto;\n",
       "  }\n",
       "  table, th, td {\n",
       "    border: 1px solid black;\n",
       "    border-collapse: collapse;\n",
       "  }\n",
       "  th, td {\n",
       "    padding: 5px;\n",
       "  }\n",
       "  th {\n",
       "    text-align: left;\n",
       "  }\n",
       "</style><div class='table-result-container'><table class='table-result'><thead style='background-color: white'><tr></tr></thead><tbody></tbody></table></div>"
      ]
     },
     "metadata": {
      "application/vnd.databricks.v1+output": {
       "addedWidgets": {},
       "aggData": [],
       "aggError": "",
       "aggOverflow": false,
       "aggSchema": [],
       "aggSeriesLimitReached": false,
       "aggType": "",
       "arguments": {},
       "columnCustomDisplayInfos": {},
       "data": [],
       "datasetInfos": [],
       "dbfsResultPath": null,
       "isJsonSchema": true,
       "metadata": {},
       "overflow": false,
       "plotOptions": {
        "customPlotOptions": {},
        "displayType": "table",
        "pivotAggregation": null,
        "pivotColumns": null,
        "xColumns": null,
        "yColumns": null
       },
       "removedWidgets": [],
       "schema": [],
       "type": "table"
      }
     },
     "output_type": "display_data"
    }
   ],
   "source": [
    "%sql\n",
    "-- Criar uma tabela auxiliar com o total de pedidos por categoria\n",
    "CREATE OR REPLACE TEMP VIEW total_por_categoria AS\n",
    "SELECT \n",
    "  product_category_name_english AS categoria,\n",
    "  COUNT(*) AS total_pedidos\n",
    "FROM gold_orders_analytics\n",
    "WHERE product_category_name_english IS NOT NULL\n",
    "GROUP BY product_category_name_english\n"
   ]
  },
  {
   "cell_type": "code",
   "execution_count": 0,
   "metadata": {
    "application/vnd.databricks.v1+cell": {
     "cellMetadata": {
      "byteLimit": 2048000,
      "implicitDf": true,
      "rowLimit": 10000
     },
     "inputWidgets": {},
     "nuid": "551d4e05-c65e-439b-b37a-bfdf903866a4",
     "showTitle": false,
     "tableResultSettingsMap": {},
     "title": ""
    }
   },
   "outputs": [
    {
     "output_type": "display_data",
     "data": {
      "text/html": [
       "<style scoped>\n",
       "  .table-result-container {\n",
       "    max-height: 300px;\n",
       "    overflow: auto;\n",
       "  }\n",
       "  table, th, td {\n",
       "    border: 1px solid black;\n",
       "    border-collapse: collapse;\n",
       "  }\n",
       "  th, td {\n",
       "    padding: 5px;\n",
       "  }\n",
       "  th {\n",
       "    text-align: left;\n",
       "  }\n",
       "</style><div class='table-result-container'><table class='table-result'><thead style='background-color: white'><tr></tr></thead><tbody></tbody></table></div>"
      ]
     },
     "metadata": {
      "application/vnd.databricks.v1+output": {
       "addedWidgets": {},
       "aggData": [],
       "aggError": "",
       "aggOverflow": false,
       "aggSchema": [],
       "aggSeriesLimitReached": false,
       "aggType": "",
       "arguments": {},
       "columnCustomDisplayInfos": {},
       "data": [],
       "datasetInfos": [],
       "dbfsResultPath": null,
       "isJsonSchema": true,
       "metadata": {},
       "overflow": false,
       "plotOptions": {
        "customPlotOptions": {},
        "displayType": "table",
        "pivotAggregation": null,
        "pivotColumns": null,
        "xColumns": null,
        "yColumns": null
       },
       "removedWidgets": [],
       "schema": [],
       "type": "table"
      }
     },
     "output_type": "display_data"
    }
   ],
   "source": [
    "%sql\n",
    "-- Criar outra view com os pedidos nota 1 por categoria\n",
    "\n",
    "CREATE OR REPLACE TEMP VIEW insatisfacao_por_categoria AS\n",
    "SELECT \n",
    "  product_category_name_english AS categoria,\n",
    "  COUNT(*) AS total_nota_1\n",
    "FROM gold_orders_analytics\n",
    "WHERE review_score = 1\n",
    "AND product_category_name_english IS NOT NULL\n",
    "GROUP BY product_category_name_english\n"
   ]
  },
  {
   "cell_type": "code",
   "execution_count": 0,
   "metadata": {
    "application/vnd.databricks.v1+cell": {
     "cellMetadata": {
      "byteLimit": 2048000,
      "implicitDf": true,
      "rowLimit": 10000
     },
     "inputWidgets": {},
     "nuid": "29fde7da-cabc-4c4e-9933-42dd7eaeab6e",
     "showTitle": false,
     "tableResultSettingsMap": {},
     "title": ""
    }
   },
   "outputs": [
    {
     "output_type": "display_data",
     "data": {
      "text/html": [
       "<style scoped>\n",
       "  .table-result-container {\n",
       "    max-height: 300px;\n",
       "    overflow: auto;\n",
       "  }\n",
       "  table, th, td {\n",
       "    border: 1px solid black;\n",
       "    border-collapse: collapse;\n",
       "  }\n",
       "  th, td {\n",
       "    padding: 5px;\n",
       "  }\n",
       "  th {\n",
       "    text-align: left;\n",
       "  }\n",
       "</style><div class='table-result-container'><table class='table-result'><thead style='background-color: white'><tr><th>categoria</th><th>nota_1</th><th>total_pedidos</th><th>taxa_insatisfacao</th></tr></thead><tbody><tr><td>security_and_services</td><td>1</td><td>2</td><td>0.5</td></tr><tr><td>fashion_male_clothing</td><td>40</td><td>145</td><td>0.276</td></tr><tr><td>diapers_and_hygiene</td><td>10</td><td>39</td><td>0.256</td></tr><tr><td>furniture_bedroom</td><td>26</td><td>126</td><td>0.206</td></tr><tr><td>office_furniture</td><td>360</td><td>1788</td><td>0.201</td></tr><tr><td>fixed_telephony</td><td>53</td><td>272</td><td>0.195</td></tr><tr><td>home_comfort_2</td><td>6</td><td>31</td><td>0.194</td></tr><tr><td>la_cuisine</td><td>3</td><td>16</td><td>0.188</td></tr><tr><td>construction_tools_safety</td><td>35</td><td>199</td><td>0.176</td></tr><tr><td>party_supplies</td><td>8</td><td>46</td><td>0.174</td></tr></tbody></table></div>"
      ]
     },
     "metadata": {
      "application/vnd.databricks.v1+output": {
       "addedWidgets": {},
       "aggData": [],
       "aggError": "",
       "aggOverflow": false,
       "aggSchema": [],
       "aggSeriesLimitReached": false,
       "aggType": "",
       "arguments": {},
       "columnCustomDisplayInfos": {},
       "data": [
        [
         "security_and_services",
         1,
         2,
         0.5
        ],
        [
         "fashion_male_clothing",
         40,
         145,
         0.276
        ],
        [
         "diapers_and_hygiene",
         10,
         39,
         0.256
        ],
        [
         "furniture_bedroom",
         26,
         126,
         0.206
        ],
        [
         "office_furniture",
         360,
         1788,
         0.201
        ],
        [
         "fixed_telephony",
         53,
         272,
         0.195
        ],
        [
         "home_comfort_2",
         6,
         31,
         0.194
        ],
        [
         "la_cuisine",
         3,
         16,
         0.188
        ],
        [
         "construction_tools_safety",
         35,
         199,
         0.176
        ],
        [
         "party_supplies",
         8,
         46,
         0.174
        ]
       ],
       "datasetInfos": [],
       "dbfsResultPath": null,
       "isJsonSchema": true,
       "metadata": {},
       "overflow": false,
       "plotOptions": {
        "customPlotOptions": {},
        "displayType": "table",
        "pivotAggregation": null,
        "pivotColumns": null,
        "xColumns": null,
        "yColumns": null
       },
       "removedWidgets": [],
       "schema": [
        {
         "metadata": "{}",
         "name": "categoria",
         "type": "\"string\""
        },
        {
         "metadata": "{}",
         "name": "nota_1",
         "type": "\"long\""
        },
        {
         "metadata": "{}",
         "name": "total_pedidos",
         "type": "\"long\""
        },
        {
         "metadata": "{}",
         "name": "taxa_insatisfacao",
         "type": "\"double\""
        }
       ],
       "type": "table"
      }
     },
     "output_type": "display_data"
    }
   ],
   "source": [
    "%sql\n",
    "SELECT \n",
    "  t.categoria,\n",
    "  COALESCE(i.total_nota_1, 0) AS nota_1,\n",
    "  t.total_pedidos,\n",
    "  ROUND(COALESCE(i.total_nota_1, 0) / t.total_pedidos, 3) AS taxa_insatisfacao\n",
    "FROM total_por_categoria t\n",
    "LEFT JOIN insatisfacao_por_categoria i\n",
    "  ON t.categoria = i.categoria\n",
    "ORDER BY taxa_insatisfacao DESC\n",
    "LIMIT 10\n"
   ]
  },
  {
   "cell_type": "markdown",
   "metadata": {
    "application/vnd.databricks.v1+cell": {
     "cellMetadata": {
      "byteLimit": 2048000,
      "rowLimit": 10000
     },
     "inputWidgets": {},
     "nuid": "bf24be85-26f2-43cd-a1ce-6856669eeb48",
     "showTitle": false,
     "tableResultSettingsMap": {},
     "title": ""
    }
   },
   "source": [
    "## Pergunta 4\n",
    "Compras com valor mais alto tendem a ter melhores avaliações?"
   ]
  },
  {
   "cell_type": "code",
   "execution_count": 0,
   "metadata": {
    "application/vnd.databricks.v1+cell": {
     "cellMetadata": {
      "byteLimit": 2048000,
      "rowLimit": 10000
     },
     "inputWidgets": {},
     "nuid": "924ce810-9e5d-4e25-ac9f-8ea2a5c2fe84",
     "showTitle": false,
     "tableResultSettingsMap": {},
     "title": ""
    }
   },
   "outputs": [],
   "source": [
    "from pyspark.sql.functions import when, col\n",
    "\n",
    "df_valor = spark.table(\"gold_orders_analytics\")\n",
    "\n",
    "df_valor = df_valor.withColumn(\"faixa_valor\",\n",
    "    when(col(\"payment_value\") < 50, \"Abaixo de R$50\")\n",
    "   .when(col(\"payment_value\") < 100, \"R$50 a R$99\")\n",
    "   .when(col(\"payment_value\") < 200, \"R$100 a R$199\")\n",
    "   .when(col(\"payment_value\") < 500, \"R$200 a R$499\")\n",
    "   .when(col(\"payment_value\") < 1000, \"R$500 a R$999\")\n",
    "   .otherwise(\"Acima de R$1000\")\n",
    ")\n",
    "\n",
    "# Salvar como nova tabela\n",
    "df_valor.write.format(\"delta\").mode(\"overwrite\").saveAsTable(\"gold_orders_faixa_valor\")\n"
   ]
  },
  {
   "cell_type": "code",
   "execution_count": 0,
   "metadata": {
    "application/vnd.databricks.v1+cell": {
     "cellMetadata": {
      "byteLimit": 2048000,
      "implicitDf": true,
      "rowLimit": 10000
     },
     "inputWidgets": {},
     "nuid": "cddde313-df2b-4c2e-9b4f-5d1af9731d1a",
     "showTitle": false,
     "tableResultSettingsMap": {},
     "title": ""
    }
   },
   "outputs": [
    {
     "output_type": "display_data",
     "data": {
      "text/html": [
       "<style scoped>\n",
       "  .table-result-container {\n",
       "    max-height: 300px;\n",
       "    overflow: auto;\n",
       "  }\n",
       "  table, th, td {\n",
       "    border: 1px solid black;\n",
       "    border-collapse: collapse;\n",
       "  }\n",
       "  th, td {\n",
       "    padding: 5px;\n",
       "  }\n",
       "  th {\n",
       "    text-align: left;\n",
       "  }\n",
       "</style><div class='table-result-container'><table class='table-result'><thead style='background-color: white'><tr><th>faixa_valor</th><th>avg_review</th><th>total_pedidos</th></tr></thead><tbody><tr><td>Abaixo de R$50</td><td>4.16</td><td>21684</td></tr><tr><td>Acima de R$1000</td><td>3.52</td><td>1760</td></tr><tr><td>R$100 a R$199</td><td>4.03</td><td>36696</td></tr><tr><td>R$200 a R$499</td><td>3.87</td><td>20921</td></tr><tr><td>R$50 a R$99</td><td>4.12</td><td>32829</td></tr><tr><td>R$500 a R$999</td><td>3.75</td><td>4420</td></tr></tbody></table></div>"
      ]
     },
     "metadata": {
      "application/vnd.databricks.v1+output": {
       "addedWidgets": {},
       "aggData": [],
       "aggError": "",
       "aggOverflow": false,
       "aggSchema": [],
       "aggSeriesLimitReached": false,
       "aggType": "",
       "arguments": {},
       "columnCustomDisplayInfos": {},
       "data": [
        [
         "Abaixo de R$50",
         4.16,
         21684
        ],
        [
         "Acima de R$1000",
         3.52,
         1760
        ],
        [
         "R$100 a R$199",
         4.03,
         36696
        ],
        [
         "R$200 a R$499",
         3.87,
         20921
        ],
        [
         "R$50 a R$99",
         4.12,
         32829
        ],
        [
         "R$500 a R$999",
         3.75,
         4420
        ]
       ],
       "datasetInfos": [],
       "dbfsResultPath": null,
       "isJsonSchema": true,
       "metadata": {},
       "overflow": false,
       "plotOptions": {
        "customPlotOptions": {},
        "displayType": "table",
        "pivotAggregation": null,
        "pivotColumns": null,
        "xColumns": null,
        "yColumns": null
       },
       "removedWidgets": [],
       "schema": [
        {
         "metadata": "{}",
         "name": "faixa_valor",
         "type": "\"string\""
        },
        {
         "metadata": "{}",
         "name": "avg_review",
         "type": "\"double\""
        },
        {
         "metadata": "{}",
         "name": "total_pedidos",
         "type": "\"long\""
        }
       ],
       "type": "table"
      }
     },
     "output_type": "display_data"
    }
   ],
   "source": [
    "%sql\n",
    "SELECT \n",
    "  faixa_valor,\n",
    "  ROUND(AVG(review_score), 2) AS avg_review,\n",
    "  COUNT(*) AS total_pedidos\n",
    "FROM gold_orders_faixa_valor\n",
    "GROUP BY faixa_valor\n",
    "ORDER BY faixa_valor"
   ]
  },
  {
   "cell_type": "markdown",
   "metadata": {
    "application/vnd.databricks.v1+cell": {
     "cellMetadata": {
      "byteLimit": 2048000,
      "rowLimit": 10000
     },
     "inputWidgets": {},
     "nuid": "5804aa08-1e11-4260-a38f-c5e3c21cb3e6",
     "showTitle": false,
     "tableResultSettingsMap": {},
     "title": ""
    }
   },
   "source": [
    "## Pergunta 5\n",
    "Existem estados ou regiões com mais reclamações?"
   ]
  },
  {
   "cell_type": "code",
   "execution_count": 0,
   "metadata": {
    "application/vnd.databricks.v1+cell": {
     "cellMetadata": {
      "byteLimit": 2048000,
      "implicitDf": true,
      "rowLimit": 10000
     },
     "inputWidgets": {},
     "nuid": "afc6fa18-b2bd-42cb-a829-9310c4469e41",
     "showTitle": false,
     "tableResultSettingsMap": {},
     "title": ""
    }
   },
   "outputs": [
    {
     "output_type": "display_data",
     "data": {
      "text/html": [
       "<style scoped>\n",
       "  .table-result-container {\n",
       "    max-height: 300px;\n",
       "    overflow: auto;\n",
       "  }\n",
       "  table, th, td {\n",
       "    border: 1px solid black;\n",
       "    border-collapse: collapse;\n",
       "  }\n",
       "  th, td {\n",
       "    padding: 5px;\n",
       "  }\n",
       "  th {\n",
       "    text-align: left;\n",
       "  }\n",
       "</style><div class='table-result-container'><table class='table-result'><thead style='background-color: white'><tr></tr></thead><tbody></tbody></table></div>"
      ]
     },
     "metadata": {
      "application/vnd.databricks.v1+output": {
       "addedWidgets": {},
       "aggData": [],
       "aggError": "",
       "aggOverflow": false,
       "aggSchema": [],
       "aggSeriesLimitReached": false,
       "aggType": "",
       "arguments": {},
       "columnCustomDisplayInfos": {},
       "data": [],
       "datasetInfos": [],
       "dbfsResultPath": null,
       "isJsonSchema": true,
       "metadata": {},
       "overflow": false,
       "plotOptions": {
        "customPlotOptions": {},
        "displayType": "table",
        "pivotAggregation": null,
        "pivotColumns": null,
        "xColumns": null,
        "yColumns": null
       },
       "removedWidgets": [],
       "schema": [],
       "type": "table"
      }
     },
     "output_type": "display_data"
    }
   ],
   "source": [
    "%sql\n",
    "-- Criar view com total de pedidos por estado\n",
    "CREATE OR REPLACE TEMP VIEW total_por_estado AS\n",
    "SELECT \n",
    "  customer_state,\n",
    "  COUNT(*) AS total_pedidos\n",
    "FROM gold_orders_analytics\n",
    "GROUP BY customer_state\n"
   ]
  },
  {
   "cell_type": "code",
   "execution_count": 0,
   "metadata": {
    "application/vnd.databricks.v1+cell": {
     "cellMetadata": {
      "byteLimit": 2048000,
      "implicitDf": true,
      "rowLimit": 10000
     },
     "inputWidgets": {},
     "nuid": "72dcf907-6110-460b-b07e-0f278f87c83d",
     "showTitle": false,
     "tableResultSettingsMap": {},
     "title": ""
    }
   },
   "outputs": [
    {
     "output_type": "display_data",
     "data": {
      "text/html": [
       "<style scoped>\n",
       "  .table-result-container {\n",
       "    max-height: 300px;\n",
       "    overflow: auto;\n",
       "  }\n",
       "  table, th, td {\n",
       "    border: 1px solid black;\n",
       "    border-collapse: collapse;\n",
       "  }\n",
       "  th, td {\n",
       "    padding: 5px;\n",
       "  }\n",
       "  th {\n",
       "    text-align: left;\n",
       "  }\n",
       "</style><div class='table-result-container'><table class='table-result'><thead style='background-color: white'><tr></tr></thead><tbody></tbody></table></div>"
      ]
     },
     "metadata": {
      "application/vnd.databricks.v1+output": {
       "addedWidgets": {},
       "aggData": [],
       "aggError": "",
       "aggOverflow": false,
       "aggSchema": [],
       "aggSeriesLimitReached": false,
       "aggType": "",
       "arguments": {},
       "columnCustomDisplayInfos": {},
       "data": [],
       "datasetInfos": [],
       "dbfsResultPath": null,
       "isJsonSchema": true,
       "metadata": {},
       "overflow": false,
       "plotOptions": {
        "customPlotOptions": {},
        "displayType": "table",
        "pivotAggregation": null,
        "pivotColumns": null,
        "xColumns": null,
        "yColumns": null
       },
       "removedWidgets": [],
       "schema": [],
       "type": "table"
      }
     },
     "output_type": "display_data"
    }
   ],
   "source": [
    "%sql\n",
    "-- Criar view com total de notas 1 por estado\n",
    "CREATE OR REPLACE TEMP VIEW insatisfacao_por_estado AS\n",
    "SELECT \n",
    "  customer_state,\n",
    "  COUNT(*) AS total_nota_1\n",
    "FROM gold_orders_analytics\n",
    "WHERE review_score = 1\n",
    "GROUP BY customer_state\n"
   ]
  },
  {
   "cell_type": "code",
   "execution_count": 0,
   "metadata": {
    "application/vnd.databricks.v1+cell": {
     "cellMetadata": {
      "byteLimit": 2048000,
      "implicitDf": true,
      "rowLimit": 10000
     },
     "inputWidgets": {},
     "nuid": "42a2e4dc-4a40-4263-826d-a1404eced11a",
     "showTitle": false,
     "tableResultSettingsMap": {},
     "title": ""
    }
   },
   "outputs": [
    {
     "output_type": "display_data",
     "data": {
      "text/html": [
       "<style scoped>\n",
       "  .table-result-container {\n",
       "    max-height: 300px;\n",
       "    overflow: auto;\n",
       "  }\n",
       "  table, th, td {\n",
       "    border: 1px solid black;\n",
       "    border-collapse: collapse;\n",
       "  }\n",
       "  th, td {\n",
       "    padding: 5px;\n",
       "  }\n",
       "  th {\n",
       "    text-align: left;\n",
       "  }\n",
       "</style><div class='table-result-container'><table class='table-result'><thead style='background-color: white'><tr><th>customer_state</th><th>nota_1</th><th>total_pedidos</th><th>taxa_insatisfacao</th></tr></thead><tbody><tr><td>RR</td><td>11</td><td>52</td><td>0.212</td></tr><tr><td>MA</td><td>165</td><td>849</td><td>0.194</td></tr><tr><td>AL</td><td>85</td><td>462</td><td>0.184</td></tr><tr><td>RJ</td><td>2802</td><td>15425</td><td>0.182</td></tr><tr><td>SE</td><td>70</td><td>397</td><td>0.176</td></tr><tr><td>PA</td><td>186</td><td>1123</td><td>0.166</td></tr><tr><td>CE</td><td>254</td><td>1556</td><td>0.163</td></tr><tr><td>PI</td><td>90</td><td>574</td><td>0.157</td></tr><tr><td>BA</td><td>626</td><td>4068</td><td>0.154</td></tr><tr><td>MT</td><td>165</td><td>1128</td><td>0.146</td></tr></tbody></table></div>"
      ]
     },
     "metadata": {
      "application/vnd.databricks.v1+output": {
       "addedWidgets": {},
       "aggData": [],
       "aggError": "",
       "aggOverflow": false,
       "aggSchema": [],
       "aggSeriesLimitReached": false,
       "aggType": "",
       "arguments": {},
       "columnCustomDisplayInfos": {},
       "data": [
        [
         "RR",
         11,
         52,
         0.212
        ],
        [
         "MA",
         165,
         849,
         0.194
        ],
        [
         "AL",
         85,
         462,
         0.184
        ],
        [
         "RJ",
         2802,
         15425,
         0.182
        ],
        [
         "SE",
         70,
         397,
         0.176
        ],
        [
         "PA",
         186,
         1123,
         0.166
        ],
        [
         "CE",
         254,
         1556,
         0.163
        ],
        [
         "PI",
         90,
         574,
         0.157
        ],
        [
         "BA",
         626,
         4068,
         0.154
        ],
        [
         "MT",
         165,
         1128,
         0.146
        ]
       ],
       "datasetInfos": [],
       "dbfsResultPath": null,
       "isJsonSchema": true,
       "metadata": {},
       "overflow": false,
       "plotOptions": {
        "customPlotOptions": {},
        "displayType": "table",
        "pivotAggregation": null,
        "pivotColumns": null,
        "xColumns": null,
        "yColumns": null
       },
       "removedWidgets": [],
       "schema": [
        {
         "metadata": "{}",
         "name": "customer_state",
         "type": "\"string\""
        },
        {
         "metadata": "{}",
         "name": "nota_1",
         "type": "\"long\""
        },
        {
         "metadata": "{}",
         "name": "total_pedidos",
         "type": "\"long\""
        },
        {
         "metadata": "{}",
         "name": "taxa_insatisfacao",
         "type": "\"double\""
        }
       ],
       "type": "table"
      }
     },
     "output_type": "display_data"
    }
   ],
   "source": [
    "%sql\n",
    "-- calcular a taxa de insatisfação\n",
    "SELECT \n",
    "  t.customer_state,\n",
    "  COALESCE(i.total_nota_1, 0) AS nota_1,\n",
    "  t.total_pedidos,\n",
    "  ROUND(COALESCE(i.total_nota_1, 0) / t.total_pedidos, 3) AS taxa_insatisfacao\n",
    "FROM total_por_estado t\n",
    "LEFT JOIN insatisfacao_por_estado i\n",
    "  ON t.customer_state = i.customer_state\n",
    "ORDER BY taxa_insatisfacao DESC\n",
    "LIMIT 10\n"
   ]
  },
  {
   "cell_type": "markdown",
   "metadata": {
    "application/vnd.databricks.v1+cell": {
     "cellMetadata": {
      "byteLimit": 2048000,
      "rowLimit": 10000
     },
     "inputWidgets": {},
     "nuid": "bfb8fba5-548c-471b-821c-8033201e675d",
     "showTitle": false,
     "tableResultSettingsMap": {},
     "title": ""
    }
   },
   "source": [
    "## Pergunta 6\n",
    "A forma de pagamento influencia a nota dada pelo cliente?"
   ]
  },
  {
   "cell_type": "code",
   "execution_count": 0,
   "metadata": {
    "application/vnd.databricks.v1+cell": {
     "cellMetadata": {
      "byteLimit": 2048000,
      "implicitDf": true,
      "rowLimit": 10000
     },
     "inputWidgets": {},
     "nuid": "1435b820-93d9-4429-90f6-c969177960b5",
     "showTitle": false,
     "tableResultSettingsMap": {},
     "title": ""
    }
   },
   "outputs": [
    {
     "output_type": "display_data",
     "data": {
      "text/html": [
       "<style scoped>\n",
       "  .table-result-container {\n",
       "    max-height: 300px;\n",
       "    overflow: auto;\n",
       "  }\n",
       "  table, th, td {\n",
       "    border: 1px solid black;\n",
       "    border-collapse: collapse;\n",
       "  }\n",
       "  th, td {\n",
       "    padding: 5px;\n",
       "  }\n",
       "  th {\n",
       "    text-align: left;\n",
       "  }\n",
       "</style><div class='table-result-container'><table class='table-result'><thead style='background-color: white'><tr><th>payment_type</th><th>avg_review_score</th><th>total_pedidos</th></tr></thead><tbody><tr><td>debit_card</td><td>4.16</td><td>1699</td></tr><tr><td>credit_card</td><td>4.03</td><td>87258</td></tr><tr><td>boleto</td><td>4.02</td><td>23018</td></tr><tr><td>voucher</td><td>4.0</td><td>6332</td></tr><tr><td>null</td><td>1.0</td><td>3</td></tr></tbody></table></div>"
      ]
     },
     "metadata": {
      "application/vnd.databricks.v1+output": {
       "addedWidgets": {},
       "aggData": [],
       "aggError": "",
       "aggOverflow": false,
       "aggSchema": [],
       "aggSeriesLimitReached": false,
       "aggType": "",
       "arguments": {},
       "columnCustomDisplayInfos": {},
       "data": [
        [
         "debit_card",
         4.16,
         1699
        ],
        [
         "credit_card",
         4.03,
         87258
        ],
        [
         "boleto",
         4.02,
         23018
        ],
        [
         "voucher",
         4.0,
         6332
        ],
        [
         null,
         1.0,
         3
        ]
       ],
       "datasetInfos": [],
       "dbfsResultPath": null,
       "isJsonSchema": true,
       "metadata": {},
       "overflow": false,
       "plotOptions": {
        "customPlotOptions": {},
        "displayType": "table",
        "pivotAggregation": null,
        "pivotColumns": null,
        "xColumns": null,
        "yColumns": null
       },
       "removedWidgets": [],
       "schema": [
        {
         "metadata": "{}",
         "name": "payment_type",
         "type": "\"string\""
        },
        {
         "metadata": "{}",
         "name": "avg_review_score",
         "type": "\"double\""
        },
        {
         "metadata": "{}",
         "name": "total_pedidos",
         "type": "\"long\""
        }
       ],
       "type": "table"
      }
     },
     "output_type": "display_data"
    }
   ],
   "source": [
    "%sql\n",
    "-- Nota média por forma de pagamento\n",
    "SELECT \n",
    "  payment_type,\n",
    "  ROUND(AVG(review_score), 2) AS avg_review_score,\n",
    "  COUNT(*) AS total_pedidos\n",
    "FROM gold_orders_analytics\n",
    "GROUP BY payment_type\n",
    "ORDER BY avg_review_score DESC\n"
   ]
  }
 ],
 "metadata": {
  "application/vnd.databricks.v1+notebook": {
   "computePreferences": null,
   "dashboards": [],
   "environmentMetadata": {
    "base_environment": "",
    "environment_version": "1"
   },
   "inputWidgetPreferences": null,
   "language": "python",
   "notebookMetadata": {
    "mostRecentlyExecutedCommandWithImplicitDF": {
     "commandId": 3190748148601142,
     "dataframes": [
      "_sqldf"
     ]
    },
    "pythonIndentUnit": 4
   },
   "notebookName": "pipeline-olist",
   "widgets": {}
  }
 },
 "nbformat": 4,
 "nbformat_minor": 0
}